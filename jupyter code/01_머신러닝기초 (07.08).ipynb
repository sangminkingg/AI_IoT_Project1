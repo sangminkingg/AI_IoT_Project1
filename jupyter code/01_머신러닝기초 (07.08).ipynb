{
 "cells": [
  {
   "cell_type": "markdown",
   "id": "eda7d192",
   "metadata": {},
   "source": [
    "# 머신러닝 학습 방법\n",
    "\n",
    "- 거리 기반 학습\n",
    "- 수식 기반 학습\n",
    "- 논리 기반 학습\n",
    "- 확률 기반 학습 (navie bayes) 나이브베이즈"
   ]
  },
  {
   "cell_type": "markdown",
   "id": "b5b58410",
   "metadata": {},
   "source": [
    "## 거리 기반 학습으로 AND 논리를 학습하는 모델을 만들자\n",
    "- 머신러닝의 모델 knn, svm"
   ]
  },
  {
   "cell_type": "code",
   "execution_count": 17,
   "id": "34f6326c",
   "metadata": {},
   "outputs": [
    {
     "data": {
      "text/plain": [
       "[[0, 0, 0], [1, 1, 1], [1, 0, 0], [1, 1, 1]]"
      ]
     },
     "execution_count": 17,
     "metadata": {},
     "output_type": "execute_result"
    }
   ],
   "source": [
    "# AND 논리 선언\n",
    "data = [[0,0,0],\n",
    "        [0,1,0],\n",
    "        [1,0,0],\n",
    "        [1,1,1]]\n",
    "\n",
    "data"
   ]
  },
  {
   "cell_type": "code",
   "execution_count": 30,
   "id": "b5c478a2",
   "metadata": {},
   "outputs": [
    {
     "name": "stdout",
     "output_type": "stream",
     "text": [
      "0\n",
      "0\n",
      "0\n",
      "1\n"
     ]
    }
   ],
   "source": [
    "# 입력된 데이터(x1, x2)에서 가장 가까운 데이터의 라벨을 출력\n",
    "def distanceML(x1, x2) :\n",
    "    #최종 결과값\n",
    "    result = 0\n",
    "    # 최소 거리를 비교하기 위한 값\n",
    "    minDis = 99\n",
    "    \n",
    "    # 전체 데이터에서 한 행씩 데이터를 가져온다\n",
    "    for row in data :\n",
    "        # 특성 데이터와 라벨데이터를 분리\n",
    "        X = row[:2]\n",
    "        Y = row[2]\n",
    "        #print(X,Y)\n",
    "        \n",
    "        # 입력된 데이터(x1, x2)와 특성 데이터 간의 거리를 계산\n",
    "        # abs : 절대값을 계산 (음수를 없애기 위해서 거리는 음수가 없기때문에)\n",
    "        dis = abs(x1 - X[0]) + abs(x2 - X[1])\n",
    "        \n",
    "        # 거리가 최소인 데이터를 검색\n",
    "        if minDis > dis :\n",
    "            minDis = dis\n",
    "            result = Y\n",
    "    # 거리가 가장 작은 데이터의 라벨값을 반환        \n",
    "    return result\n",
    "            \n",
    "            \n",
    "        \n",
    "print(distanceML(0,0))\n",
    "print(distanceML(0,1))\n",
    "print(distanceML(1,0))\n",
    "print(distanceML(1,1))\n"
   ]
  },
  {
   "cell_type": "code",
   "execution_count": 33,
   "id": "1a26e36a",
   "metadata": {},
   "outputs": [
    {
     "name": "stdout",
     "output_type": "stream",
     "text": [
      "정상\n"
     ]
    }
   ],
   "source": [
    "data = [[150, 40, \"저체중\"],\n",
    "         [200, 100, \"비만\"],  \n",
    "         [180, 150, \"비만\"], \n",
    "         [160, 40, \"저체중\"],\n",
    "         [170, 70, \"정상\"]\n",
    "        ]\n",
    "data\n",
    "print(distanceML(170,70))"
   ]
  },
  {
   "cell_type": "markdown",
   "id": "6876ae84",
   "metadata": {},
   "source": [
    "## 수식 기반 학습으로 AND논리를 학습하는 모델을 만들자\n",
    "- Linear Regression (선형회기), Ridge, Lasso\n",
    "- Logistic Regression"
   ]
  },
  {
   "cell_type": "code",
   "execution_count": 34,
   "id": "6b7afccc",
   "metadata": {},
   "outputs": [
    {
     "data": {
      "text/plain": [
       "[[0, 0, 0], [0, 1, 0], [1, 0, 0], [1, 1, 1]]"
      ]
     },
     "execution_count": 34,
     "metadata": {},
     "output_type": "execute_result"
    }
   ],
   "source": [
    "data = [[0,0,0],\n",
    "        [0,1,0],\n",
    "        [1,0,0],\n",
    "        [1,1,1]]\n",
    "\n",
    "data"
   ]
  },
  {
   "cell_type": "code",
   "execution_count": 39,
   "id": "2e557431",
   "metadata": {},
   "outputs": [
    {
     "name": "stdout",
     "output_type": "stream",
     "text": [
      "0\n",
      "0\n",
      "0\n",
      "1\n"
     ]
    }
   ],
   "source": [
    "def andML(x1, x2):\n",
    "    w1 , w2, b = 1, 1, -1   # 여러분이 직접 맞춰보세요 (-1.0과 1.0사이값)\n",
    "    \n",
    "    # and논리를 만드는 수식\n",
    "    temp = w1*x1 + w2*x2 + b\n",
    "    \n",
    "    if temp <= 0.5:\n",
    "        return 0\n",
    "    else:\n",
    "        return 1\n",
    "    \n",
    "print(andML(0,0))\n",
    "print(andML(0,1))\n",
    "print(andML(1,0))\n",
    "print(andML(1,1))"
   ]
  },
  {
   "cell_type": "markdown",
   "id": "faf31583",
   "metadata": {},
   "source": [
    "## 논리 기반 학습으로 AND논리를 학습하는 모델을 만들자\n",
    "- Decision Tree(의사결정)"
   ]
  },
  {
   "cell_type": "code",
   "execution_count": 40,
   "id": "bbdef6b2",
   "metadata": {},
   "outputs": [
    {
     "name": "stdout",
     "output_type": "stream",
     "text": [
      "0\n",
      "0\n",
      "0\n",
      "1\n"
     ]
    }
   ],
   "source": [
    "def logicalML(x1, x2):\n",
    "    if x1 == 0 and x2 == 0 :\n",
    "        return 0\n",
    "    elif x1 == 0 and x2 ==1 :\n",
    "        return 0\n",
    "    elif x1 == 1 and x2 ==0 :\n",
    "        return 0\n",
    "    elif x1 == 1 and x2 ==1 :\n",
    "        return 1    \n",
    "    \n",
    "print(logicalML(0, 0))\n",
    "print(logicalML(0, 1))\n",
    "print(logicalML(1, 0))\n",
    "print(logicalML(1, 1))"
   ]
  },
  {
   "cell_type": "markdown",
   "id": "3fcabc70",
   "metadata": {},
   "source": [
    "## 앙상블(Ensemble)\n",
    "\n",
    "- Random Forest, adaboost, GBM, Xgboost, LightGBM 등등 많이씀\n",
    "\n",
    "- 여러 개의 모델을 사용해서 투표나 확률을 계산하는 방식 - voting, stacking\n",
    "\n",
    "- 데이터를 쪼개서 적용하는 방식 - bagging, boosting"
   ]
  },
  {
   "cell_type": "markdown",
   "id": "4e19151f",
   "metadata": {},
   "source": [
    "- 비지도학습\n",
    "- 특성 테이터와 라벨테이터와의 관계를 찾아야한다(수식과 규칙으로)\n",
    "- 비지도 학습\n",
    "- 라벨이 없다. 라벨을 만들어야한다. 군집과 차원축소를 한다.(두가지는 데이터 전처리에 자주 사용한다)"
   ]
  },
  {
   "cell_type": "code",
   "execution_count": null,
   "id": "c34f3158",
   "metadata": {},
   "outputs": [],
   "source": [
    "# 주성분분석 : 양쪽은 같은 것을 비교하는 것\n",
    "# 독립성분분석 : 양쪽의 다른 독특한 것을 비교"
   ]
  },
  {
   "cell_type": "markdown",
   "id": "1ab6fd0d",
   "metadata": {},
   "source": [
    "# Sciki-learn 프레임워크를 활용한  학습\n",
    "- Sciki-learn 프레임워크 : 머신러닝과 관련된 데이터, 모델, 함수 등을 다양하게 제공하는 가장 많이 활용되는 머신러닝 프레임 워크"
   ]
  },
  {
   "cell_type": "code",
   "execution_count": 3,
   "id": "989bbe68",
   "metadata": {},
   "outputs": [
    {
     "data": {
      "text/html": [
       "<div>\n",
       "<style scoped>\n",
       "    .dataframe tbody tr th:only-of-type {\n",
       "        vertical-align: middle;\n",
       "    }\n",
       "\n",
       "    .dataframe tbody tr th {\n",
       "        vertical-align: top;\n",
       "    }\n",
       "\n",
       "    .dataframe thead th {\n",
       "        text-align: right;\n",
       "    }\n",
       "</style>\n",
       "<table border=\"1\" class=\"dataframe\">\n",
       "  <thead>\n",
       "    <tr style=\"text-align: right;\">\n",
       "      <th></th>\n",
       "      <th>A</th>\n",
       "      <th>B</th>\n",
       "      <th>AND</th>\n",
       "    </tr>\n",
       "  </thead>\n",
       "  <tbody>\n",
       "    <tr>\n",
       "      <th>0</th>\n",
       "      <td>0</td>\n",
       "      <td>0</td>\n",
       "      <td>0</td>\n",
       "    </tr>\n",
       "    <tr>\n",
       "      <th>1</th>\n",
       "      <td>0</td>\n",
       "      <td>1</td>\n",
       "      <td>0</td>\n",
       "    </tr>\n",
       "    <tr>\n",
       "      <th>2</th>\n",
       "      <td>1</td>\n",
       "      <td>0</td>\n",
       "      <td>0</td>\n",
       "    </tr>\n",
       "    <tr>\n",
       "      <th>3</th>\n",
       "      <td>1</td>\n",
       "      <td>1</td>\n",
       "      <td>1</td>\n",
       "    </tr>\n",
       "  </tbody>\n",
       "</table>\n",
       "</div>"
      ],
      "text/plain": [
       "   A  B  AND\n",
       "0  0  0    0\n",
       "1  0  1    0\n",
       "2  1  0    0\n",
       "3  1  1    1"
      ]
     },
     "execution_count": 3,
     "metadata": {},
     "output_type": "execute_result"
    }
   ],
   "source": [
    "#AND 논리 선언\n",
    "data = [[0,0,0],\n",
    "        [0,1,0],\n",
    "        [1,0,0],\n",
    "        [1,1,1]]\n",
    "\n",
    "# Pandas 데이터로 변환\n",
    "#컬럼명 (A,B,AND)\n",
    "import pandas as pd\n",
    "df_data = pd.DataFrame(data, columns=[\"A\", \"B\", \"AND\"])\n",
    "df_data"
   ]
  },
  {
   "cell_type": "code",
   "execution_count": 13,
   "id": "7d57652e",
   "metadata": {},
   "outputs": [],
   "source": [
    "# 특성데이터와 라벨데이터로 분리\n",
    "X = df_data.iloc[:, :2] \n",
    "y = df_data.iloc[:, 2]\n",
    "y1 = df_data.iloc[:,2:] "
   ]
  },
  {
   "cell_type": "code",
   "execution_count": 14,
   "id": "f514b19d",
   "metadata": {},
   "outputs": [
    {
     "data": {
      "text/html": [
       "<div>\n",
       "<style scoped>\n",
       "    .dataframe tbody tr th:only-of-type {\n",
       "        vertical-align: middle;\n",
       "    }\n",
       "\n",
       "    .dataframe tbody tr th {\n",
       "        vertical-align: top;\n",
       "    }\n",
       "\n",
       "    .dataframe thead th {\n",
       "        text-align: right;\n",
       "    }\n",
       "</style>\n",
       "<table border=\"1\" class=\"dataframe\">\n",
       "  <thead>\n",
       "    <tr style=\"text-align: right;\">\n",
       "      <th></th>\n",
       "      <th>AND</th>\n",
       "    </tr>\n",
       "  </thead>\n",
       "  <tbody>\n",
       "    <tr>\n",
       "      <th>0</th>\n",
       "      <td>0</td>\n",
       "    </tr>\n",
       "    <tr>\n",
       "      <th>1</th>\n",
       "      <td>0</td>\n",
       "    </tr>\n",
       "    <tr>\n",
       "      <th>2</th>\n",
       "      <td>0</td>\n",
       "    </tr>\n",
       "    <tr>\n",
       "      <th>3</th>\n",
       "      <td>1</td>\n",
       "    </tr>\n",
       "  </tbody>\n",
       "</table>\n",
       "</div>"
      ],
      "text/plain": [
       "   AND\n",
       "0    0\n",
       "1    0\n",
       "2    0\n",
       "3    1"
      ]
     },
     "execution_count": 14,
     "metadata": {},
     "output_type": "execute_result"
    }
   ],
   "source": [
    "y1"
   ]
  },
  {
   "cell_type": "code",
   "execution_count": 11,
   "id": "5e2e9e45",
   "metadata": {},
   "outputs": [
    {
     "data": {
      "text/html": [
       "<div>\n",
       "<style scoped>\n",
       "    .dataframe tbody tr th:only-of-type {\n",
       "        vertical-align: middle;\n",
       "    }\n",
       "\n",
       "    .dataframe tbody tr th {\n",
       "        vertical-align: top;\n",
       "    }\n",
       "\n",
       "    .dataframe thead th {\n",
       "        text-align: right;\n",
       "    }\n",
       "</style>\n",
       "<table border=\"1\" class=\"dataframe\">\n",
       "  <thead>\n",
       "    <tr style=\"text-align: right;\">\n",
       "      <th></th>\n",
       "      <th>A</th>\n",
       "      <th>B</th>\n",
       "    </tr>\n",
       "  </thead>\n",
       "  <tbody>\n",
       "    <tr>\n",
       "      <th>0</th>\n",
       "      <td>0</td>\n",
       "      <td>0</td>\n",
       "    </tr>\n",
       "    <tr>\n",
       "      <th>1</th>\n",
       "      <td>0</td>\n",
       "      <td>1</td>\n",
       "    </tr>\n",
       "    <tr>\n",
       "      <th>2</th>\n",
       "      <td>1</td>\n",
       "      <td>0</td>\n",
       "    </tr>\n",
       "    <tr>\n",
       "      <th>3</th>\n",
       "      <td>1</td>\n",
       "      <td>1</td>\n",
       "    </tr>\n",
       "  </tbody>\n",
       "</table>\n",
       "</div>"
      ],
      "text/plain": [
       "   A  B\n",
       "0  0  0\n",
       "1  0  1\n",
       "2  1  0\n",
       "3  1  1"
      ]
     },
     "execution_count": 11,
     "metadata": {},
     "output_type": "execute_result"
    }
   ],
   "source": [
    "X"
   ]
  },
  {
   "cell_type": "code",
   "execution_count": 12,
   "id": "07f5e76c",
   "metadata": {},
   "outputs": [
    {
     "data": {
      "text/plain": [
       "0    0\n",
       "1    0\n",
       "2    0\n",
       "3    1\n",
       "Name: AND, dtype: int64"
      ]
     },
     "execution_count": 12,
     "metadata": {},
     "output_type": "execute_result"
    }
   ],
   "source": [
    "Y"
   ]
  },
  {
   "cell_type": "code",
   "execution_count": 15,
   "id": "cab32653",
   "metadata": {},
   "outputs": [
    {
     "name": "stdout",
     "output_type": "stream",
     "text": [
      "(4,)\n",
      "(4, 1)\n"
     ]
    }
   ],
   "source": [
    "print(y.shape)\n",
    "print(y1.shape)  #y1으로 인덱싱말고 슬라이싱으로하면 크기가 달라져서 나중에 크기가 맞지 않는다고 할 수 있다."
   ]
  },
  {
   "cell_type": "code",
   "execution_count": 20,
   "id": "6cef9a8d",
   "metadata": {},
   "outputs": [
    {
     "data": {
      "text/plain": [
       "KNeighborsClassifier(n_neighbors=1)"
      ]
     },
     "execution_count": 20,
     "metadata": {},
     "output_type": "execute_result"
    }
   ],
   "source": [
    "# KNN 모델을 로드\n",
    "from sklearn.neighbors import KNeighborsClassifier\n",
    "\n",
    "# 모델 선언\n",
    "# n_neighbors : 가까이에 있는 참고하는 데이터의 수\n",
    "knn_model = KNeighborsClassifier(n_neighbors=1) # 가장 가까운 데이터 1개만 참고하겠다.\n",
    "\n",
    "# 특성데이터와 라벨데이터를 입력해서 훈련 -fit(특성데이터, 라벨데이터)\n",
    "knn_model.fit(X, y) \n"
   ]
  },
  {
   "cell_type": "code",
   "execution_count": 23,
   "id": "33f2f58e",
   "metadata": {},
   "outputs": [
    {
     "name": "stderr",
     "output_type": "stream",
     "text": [
      "C:\\Users\\AI\\Anaconda3\\lib\\site-packages\\sklearn\\base.py:450: UserWarning: X does not have valid feature names, but KNeighborsClassifier was fitted with feature names\n",
      "  warnings.warn(\n"
     ]
    },
    {
     "data": {
      "text/plain": [
       "array([1, 0, 0, 0], dtype=int64)"
      ]
     },
     "execution_count": 23,
     "metadata": {},
     "output_type": "execute_result"
    }
   ],
   "source": [
    "# 새로운 데이터를 입력해서 예측\n",
    "new_X = [[1,1],[0,1],[0,0],[1,0]]\n",
    "new_y = [1, 0, 0, 0]\n",
    "\n",
    "# predict() : 생성된 모델을 이용해서 새로운 특성데이터의 라벨데이터를 예측\n",
    "pred_y = knn_model.predict(new_X)\n",
    "\n",
    "pred_y"
   ]
  },
  {
   "cell_type": "code",
   "execution_count": 27,
   "id": "f4d591f4",
   "metadata": {},
   "outputs": [
    {
     "name": "stdout",
     "output_type": "stream",
     "text": [
      "1.0\n",
      "1.0\n"
     ]
    }
   ],
   "source": [
    "# 평가(score, accuracy_score) - 정확도 구하는 함수\n",
    "# score() : 훈련하고나서 특성데이터와 라벨데이터로 정확도를 계산\n",
    "# accuracy_score() : 예측한 라벨과 원래 라벨을 비교하여 정확도를 계산하는 함수 \n",
    "from sklearn.metrics import accuracy_score\n",
    "\n",
    "print(knn_model.score(X,y))    #확률이 100%가 나오면 과대적합일 확률이 매우 높다.\n",
    "print(accuracy_score(pred_y,new_y))"
   ]
  }
 ],
 "metadata": {
  "kernelspec": {
   "display_name": "Python 3 (ipykernel)",
   "language": "python",
   "name": "python3"
  },
  "language_info": {
   "codemirror_mode": {
    "name": "ipython",
    "version": 3
   },
   "file_extension": ".py",
   "mimetype": "text/x-python",
   "name": "python",
   "nbconvert_exporter": "python",
   "pygments_lexer": "ipython3",
   "version": "3.9.12"
  },
  "toc": {
   "base_numbering": 1,
   "nav_menu": {},
   "number_sections": true,
   "sideBar": true,
   "skip_h1_title": false,
   "title_cell": "Table of Contents",
   "title_sidebar": "Contents",
   "toc_cell": false,
   "toc_position": {},
   "toc_section_display": true,
   "toc_window_display": false
  }
 },
 "nbformat": 4,
 "nbformat_minor": 5
}
