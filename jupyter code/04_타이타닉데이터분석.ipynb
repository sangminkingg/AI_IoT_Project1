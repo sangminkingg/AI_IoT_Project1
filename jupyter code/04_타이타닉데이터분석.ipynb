{
 "cells": [
  {
   "cell_type": "markdown",
   "id": "cefd17ce",
   "metadata": {},
   "source": [
    "# 문제정의\n",
    "- 데이터 전처리 및 시각화 방법에 대해 학습"
   ]
  },
  {
   "cell_type": "markdown",
   "id": "a1d0f69e",
   "metadata": {},
   "source": [
    "#  데이터 수집"
   ]
  },
  {
   "cell_type": "code",
   "execution_count": 1,
   "id": "ba5258dc",
   "metadata": {},
   "outputs": [],
   "source": [
    "import pandas as pd\n",
    "\n",
    "# index_col : 인덱스 컬럼을 설정\n",
    "train = pd.read_csv(\"./data/titanic_train.csv\", index_col=\"PassengerId\")\n",
    "test = pd.read_csv(\"./data/titanic_test.csv\", index_col=\"PassengerId\")"
   ]
  },
  {
   "cell_type": "markdown",
   "id": "3348f341",
   "metadata": {},
   "source": [
    "# 탐색적 데이터 분석 및 전처리"
   ]
  },
  {
   "cell_type": "code",
   "execution_count": 2,
   "id": "9d5a0a04",
   "metadata": {},
   "outputs": [
    {
     "name": "stdout",
     "output_type": "stream",
     "text": [
      "(891, 11)\n",
      "(418, 10)\n"
     ]
    }
   ],
   "source": [
    "print(train.shape)\n",
    "print(test.shape)"
   ]
  },
  {
   "cell_type": "markdown",
   "id": "6db0c473",
   "metadata": {},
   "source": [
    "- 분석 feature : Pclass, Age, Name, SibSp, Parch, Fare, Ticket, Cabin, Embarked\n",
    "- 예측 target label : Survived\n",
    "- feature\n",
    "<table border=0 align=left width=700>\n",
    "  <tr><th>feature<th width=200>의미<th width=300>설명<th> 타입\n",
    "  <tr><td>Survivied<td>생존여부<td>target 라벨 (0 : 사망, 1 : 생존)<td>integer\n",
    "  <tr><td>Pclass<td>티켓의 클래스<td>1 = 1등석, 2 = 2등석, 3 = 3등석<td>integer\n",
    "  <tr><td>Name<td>이름<td>호칭과 이름으로 구성<td>string\n",
    "  <tr><td>Sex<td>성별<td>male, female로 구분<td>string\n",
    "  <tr><td>Age<td>나이<td>0-80세<td>integer\n",
    "  <tr><td>SibSp<td>함께 탑승한 형제와 배우자의 수<td><td>integer\n",
    "  <tr><td>Parch<td>함께 탑승한 부모, 아이의 수<td><td>integer\n",
    "  <tr><td>Ticket<td>티켓 번호<td>alphabat + integer<td>string\n",
    "  <tr><td>Fare<td>탑승료<td><td>float\n",
    "  <tr><td>Cabin<td>객실 번호<td>alphabat + integer<td>string\n",
    "  <tr><td>Embarked<td>탑승 항구<td>C = Cherbourg, Q = Queenstown, S = Southampton<td>string\n",
    "</table>"
   ]
  },
  {
   "cell_type": "markdown",
   "id": "6992fa6b",
   "metadata": {},
   "source": [
    "## 탐색적 데이터 분석\n",
    "\n",
    "- 데이터 이해 선행\n",
    "- 결측치(컬럼에 값이 없는 데이터), 이상치(다른 값들과 차이가 큰 값), 오류가 있는지 확인\n",
    "- 기술통계 \n",
    "- 상관관계\n",
    "- 시각화"
   ]
  },
  {
   "cell_type": "markdown",
   "id": "f8f13c48",
   "metadata": {},
   "source": [
    "## 결측치 확인\n",
    "\n",
    "- info(), describe(), insull()과 sum() 함수 등을 이용"
   ]
  },
  {
   "cell_type": "code",
   "execution_count": 3,
   "id": "69b8311a",
   "metadata": {},
   "outputs": [
    {
     "name": "stdout",
     "output_type": "stream",
     "text": [
      "<class 'pandas.core.frame.DataFrame'>\n",
      "Int64Index: 891 entries, 1 to 891\n",
      "Data columns (total 11 columns):\n",
      " #   Column    Non-Null Count  Dtype  \n",
      "---  ------    --------------  -----  \n",
      " 0   Survived  891 non-null    int64  \n",
      " 1   Pclass    891 non-null    int64  \n",
      " 2   Name      891 non-null    object \n",
      " 3   Sex       891 non-null    object \n",
      " 4   Age       714 non-null    float64\n",
      " 5   SibSp     891 non-null    int64  \n",
      " 6   Parch     891 non-null    int64  \n",
      " 7   Ticket    891 non-null    object \n",
      " 8   Fare      891 non-null    float64\n",
      " 9   Cabin     204 non-null    object \n",
      " 10  Embarked  889 non-null    object \n",
      "dtypes: float64(2), int64(4), object(5)\n",
      "memory usage: 83.5+ KB\n"
     ]
    }
   ],
   "source": [
    "# 훈련 데이터의 결측치\n",
    "train.info()\n",
    "\n",
    "# Age, Cabin, Embarked에 결측치가 존재 \n",
    "#(범주형 데이터의 개수가 적을때는 클래스의 수가 많은 곳으로 채운다) \n",
    "#수가 많다면 클래스 값의 비율대로 랜덤으로 입력한다."
   ]
  },
  {
   "cell_type": "code",
   "execution_count": 4,
   "id": "8ca4d2e2",
   "metadata": {},
   "outputs": [
    {
     "name": "stdout",
     "output_type": "stream",
     "text": [
      "<class 'pandas.core.frame.DataFrame'>\n",
      "Int64Index: 418 entries, 892 to 1309\n",
      "Data columns (total 10 columns):\n",
      " #   Column    Non-Null Count  Dtype  \n",
      "---  ------    --------------  -----  \n",
      " 0   Pclass    418 non-null    int64  \n",
      " 1   Name      418 non-null    object \n",
      " 2   Sex       418 non-null    object \n",
      " 3   Age       332 non-null    float64\n",
      " 4   SibSp     418 non-null    int64  \n",
      " 5   Parch     418 non-null    int64  \n",
      " 6   Ticket    418 non-null    object \n",
      " 7   Fare      417 non-null    float64\n",
      " 8   Cabin     91 non-null     object \n",
      " 9   Embarked  418 non-null    object \n",
      "dtypes: float64(2), int64(3), object(5)\n",
      "memory usage: 35.9+ KB\n"
     ]
    }
   ],
   "source": [
    "# 테스트 데이터의 결측치 확인\n",
    "test.info()\n",
    "\n",
    "#Age, Fare, Cabin에 결측치가 존재"
   ]
  },
  {
   "cell_type": "markdown",
   "id": "728e71b9",
   "metadata": {},
   "source": [
    "- 결측치 채우는 방법\n",
    "   - 수치형 경우\n",
    "     - 기술통계(평균, 중간값)\n",
    "     - 결측치가 적은 경우 : 전체 평균이나 중간값을 대입\n",
    "     - 결측치가 많은 경우 결측치가 있는 데이터의 다른 컬럼과 같은 값을 갖는 데이터의 결측치 통계\n",
    "     \n",
    "   - 범주형인 경우\n",
    "     - 결측치가 적은 경우 : 데이터수가 가장 많은 클래스로 할당 -> 기존 데이터가 결측치가 있는 데이터에 의해 영향을 덜 받기 때문\n",
    "     - 결측치가 많은 경우 : 데이터수가 가장 많은 클래스로 할당 -> 편향이 됨 -> 기존 데이터의 개수 비율만큼 랜덤으로 할당"
   ]
  },
  {
   "cell_type": "code",
   "execution_count": 5,
   "id": "19e46495",
   "metadata": {},
   "outputs": [
    {
     "data": {
      "text/plain": [
       "Survived      0\n",
       "Pclass        0\n",
       "Name          0\n",
       "Sex           0\n",
       "Age         177\n",
       "SibSp         0\n",
       "Parch         0\n",
       "Ticket        0\n",
       "Fare          0\n",
       "Cabin       687\n",
       "Embarked      2\n",
       "dtype: int64"
      ]
     },
     "execution_count": 5,
     "metadata": {},
     "output_type": "execute_result"
    }
   ],
   "source": [
    "# 결측치 개수 확인 \n",
    "train.isnull().sum()"
   ]
  },
  {
   "cell_type": "code",
   "execution_count": 6,
   "id": "4a7dd932",
   "metadata": {},
   "outputs": [
    {
     "data": {
      "text/plain": [
       "Pclass        0\n",
       "Name          0\n",
       "Sex           0\n",
       "Age          86\n",
       "SibSp         0\n",
       "Parch         0\n",
       "Ticket        0\n",
       "Fare          1\n",
       "Cabin       327\n",
       "Embarked      0\n",
       "dtype: int64"
      ]
     },
     "execution_count": 6,
     "metadata": {},
     "output_type": "execute_result"
    }
   ],
   "source": [
    "test.isnull().sum()"
   ]
  },
  {
   "cell_type": "code",
   "execution_count": 7,
   "id": "91065627",
   "metadata": {},
   "outputs": [
    {
     "data": {
      "text/html": [
       "<div>\n",
       "<style scoped>\n",
       "    .dataframe tbody tr th:only-of-type {\n",
       "        vertical-align: middle;\n",
       "    }\n",
       "\n",
       "    .dataframe tbody tr th {\n",
       "        vertical-align: top;\n",
       "    }\n",
       "\n",
       "    .dataframe thead th {\n",
       "        text-align: right;\n",
       "    }\n",
       "</style>\n",
       "<table border=\"1\" class=\"dataframe\">\n",
       "  <thead>\n",
       "    <tr style=\"text-align: right;\">\n",
       "      <th></th>\n",
       "      <th>Survived</th>\n",
       "      <th>Pclass</th>\n",
       "      <th>Age</th>\n",
       "      <th>SibSp</th>\n",
       "      <th>Parch</th>\n",
       "      <th>Fare</th>\n",
       "    </tr>\n",
       "  </thead>\n",
       "  <tbody>\n",
       "    <tr>\n",
       "      <th>count</th>\n",
       "      <td>891.000000</td>\n",
       "      <td>891.000000</td>\n",
       "      <td>714.000000</td>\n",
       "      <td>891.000000</td>\n",
       "      <td>891.000000</td>\n",
       "      <td>891.000000</td>\n",
       "    </tr>\n",
       "    <tr>\n",
       "      <th>mean</th>\n",
       "      <td>0.383838</td>\n",
       "      <td>2.308642</td>\n",
       "      <td>29.699118</td>\n",
       "      <td>0.523008</td>\n",
       "      <td>0.381594</td>\n",
       "      <td>32.204208</td>\n",
       "    </tr>\n",
       "    <tr>\n",
       "      <th>std</th>\n",
       "      <td>0.486592</td>\n",
       "      <td>0.836071</td>\n",
       "      <td>14.526497</td>\n",
       "      <td>1.102743</td>\n",
       "      <td>0.806057</td>\n",
       "      <td>49.693429</td>\n",
       "    </tr>\n",
       "    <tr>\n",
       "      <th>min</th>\n",
       "      <td>0.000000</td>\n",
       "      <td>1.000000</td>\n",
       "      <td>0.420000</td>\n",
       "      <td>0.000000</td>\n",
       "      <td>0.000000</td>\n",
       "      <td>0.000000</td>\n",
       "    </tr>\n",
       "    <tr>\n",
       "      <th>25%</th>\n",
       "      <td>0.000000</td>\n",
       "      <td>2.000000</td>\n",
       "      <td>20.125000</td>\n",
       "      <td>0.000000</td>\n",
       "      <td>0.000000</td>\n",
       "      <td>7.910400</td>\n",
       "    </tr>\n",
       "    <tr>\n",
       "      <th>50%</th>\n",
       "      <td>0.000000</td>\n",
       "      <td>3.000000</td>\n",
       "      <td>28.000000</td>\n",
       "      <td>0.000000</td>\n",
       "      <td>0.000000</td>\n",
       "      <td>14.454200</td>\n",
       "    </tr>\n",
       "    <tr>\n",
       "      <th>75%</th>\n",
       "      <td>1.000000</td>\n",
       "      <td>3.000000</td>\n",
       "      <td>38.000000</td>\n",
       "      <td>1.000000</td>\n",
       "      <td>0.000000</td>\n",
       "      <td>31.000000</td>\n",
       "    </tr>\n",
       "    <tr>\n",
       "      <th>max</th>\n",
       "      <td>1.000000</td>\n",
       "      <td>3.000000</td>\n",
       "      <td>80.000000</td>\n",
       "      <td>8.000000</td>\n",
       "      <td>6.000000</td>\n",
       "      <td>512.329200</td>\n",
       "    </tr>\n",
       "  </tbody>\n",
       "</table>\n",
       "</div>"
      ],
      "text/plain": [
       "         Survived      Pclass         Age       SibSp       Parch        Fare\n",
       "count  891.000000  891.000000  714.000000  891.000000  891.000000  891.000000\n",
       "mean     0.383838    2.308642   29.699118    0.523008    0.381594   32.204208\n",
       "std      0.486592    0.836071   14.526497    1.102743    0.806057   49.693429\n",
       "min      0.000000    1.000000    0.420000    0.000000    0.000000    0.000000\n",
       "25%      0.000000    2.000000   20.125000    0.000000    0.000000    7.910400\n",
       "50%      0.000000    3.000000   28.000000    0.000000    0.000000   14.454200\n",
       "75%      1.000000    3.000000   38.000000    1.000000    0.000000   31.000000\n",
       "max      1.000000    3.000000   80.000000    8.000000    6.000000  512.329200"
      ]
     },
     "execution_count": 7,
     "metadata": {},
     "output_type": "execute_result"
    }
   ],
   "source": [
    "train.describe()\n",
    "#Fare는 이상하지는 않지만 왼쪽으로 편향되어있어서 정규화가 필요한것을 알수있음\n",
    "#수치형과 범주형데이터에서 수치형데이터가 우선순위이다."
   ]
  },
  {
   "cell_type": "code",
   "execution_count": 8,
   "id": "097a763c",
   "metadata": {},
   "outputs": [
    {
     "data": {
      "text/html": [
       "<div>\n",
       "<style scoped>\n",
       "    .dataframe tbody tr th:only-of-type {\n",
       "        vertical-align: middle;\n",
       "    }\n",
       "\n",
       "    .dataframe tbody tr th {\n",
       "        vertical-align: top;\n",
       "    }\n",
       "\n",
       "    .dataframe thead th {\n",
       "        text-align: right;\n",
       "    }\n",
       "</style>\n",
       "<table border=\"1\" class=\"dataframe\">\n",
       "  <thead>\n",
       "    <tr style=\"text-align: right;\">\n",
       "      <th></th>\n",
       "      <th>Pclass</th>\n",
       "      <th>Age</th>\n",
       "      <th>SibSp</th>\n",
       "      <th>Parch</th>\n",
       "      <th>Fare</th>\n",
       "    </tr>\n",
       "  </thead>\n",
       "  <tbody>\n",
       "    <tr>\n",
       "      <th>count</th>\n",
       "      <td>418.000000</td>\n",
       "      <td>332.000000</td>\n",
       "      <td>418.000000</td>\n",
       "      <td>418.000000</td>\n",
       "      <td>417.000000</td>\n",
       "    </tr>\n",
       "    <tr>\n",
       "      <th>mean</th>\n",
       "      <td>2.265550</td>\n",
       "      <td>30.272590</td>\n",
       "      <td>0.447368</td>\n",
       "      <td>0.392344</td>\n",
       "      <td>35.627188</td>\n",
       "    </tr>\n",
       "    <tr>\n",
       "      <th>std</th>\n",
       "      <td>0.841838</td>\n",
       "      <td>14.181209</td>\n",
       "      <td>0.896760</td>\n",
       "      <td>0.981429</td>\n",
       "      <td>55.907576</td>\n",
       "    </tr>\n",
       "    <tr>\n",
       "      <th>min</th>\n",
       "      <td>1.000000</td>\n",
       "      <td>0.170000</td>\n",
       "      <td>0.000000</td>\n",
       "      <td>0.000000</td>\n",
       "      <td>0.000000</td>\n",
       "    </tr>\n",
       "    <tr>\n",
       "      <th>25%</th>\n",
       "      <td>1.000000</td>\n",
       "      <td>21.000000</td>\n",
       "      <td>0.000000</td>\n",
       "      <td>0.000000</td>\n",
       "      <td>7.895800</td>\n",
       "    </tr>\n",
       "    <tr>\n",
       "      <th>50%</th>\n",
       "      <td>3.000000</td>\n",
       "      <td>27.000000</td>\n",
       "      <td>0.000000</td>\n",
       "      <td>0.000000</td>\n",
       "      <td>14.454200</td>\n",
       "    </tr>\n",
       "    <tr>\n",
       "      <th>75%</th>\n",
       "      <td>3.000000</td>\n",
       "      <td>39.000000</td>\n",
       "      <td>1.000000</td>\n",
       "      <td>0.000000</td>\n",
       "      <td>31.500000</td>\n",
       "    </tr>\n",
       "    <tr>\n",
       "      <th>max</th>\n",
       "      <td>3.000000</td>\n",
       "      <td>76.000000</td>\n",
       "      <td>8.000000</td>\n",
       "      <td>9.000000</td>\n",
       "      <td>512.329200</td>\n",
       "    </tr>\n",
       "  </tbody>\n",
       "</table>\n",
       "</div>"
      ],
      "text/plain": [
       "           Pclass         Age       SibSp       Parch        Fare\n",
       "count  418.000000  332.000000  418.000000  418.000000  417.000000\n",
       "mean     2.265550   30.272590    0.447368    0.392344   35.627188\n",
       "std      0.841838   14.181209    0.896760    0.981429   55.907576\n",
       "min      1.000000    0.170000    0.000000    0.000000    0.000000\n",
       "25%      1.000000   21.000000    0.000000    0.000000    7.895800\n",
       "50%      3.000000   27.000000    0.000000    0.000000   14.454200\n",
       "75%      3.000000   39.000000    1.000000    0.000000   31.500000\n",
       "max      3.000000   76.000000    8.000000    9.000000  512.329200"
      ]
     },
     "execution_count": 8,
     "metadata": {},
     "output_type": "execute_result"
    }
   ],
   "source": [
    "test.describe()"
   ]
  },
  {
   "cell_type": "code",
   "execution_count": 9,
   "id": "864cb384",
   "metadata": {},
   "outputs": [
    {
     "data": {
      "text/html": [
       "<div>\n",
       "<style scoped>\n",
       "    .dataframe tbody tr th:only-of-type {\n",
       "        vertical-align: middle;\n",
       "    }\n",
       "\n",
       "    .dataframe tbody tr th {\n",
       "        vertical-align: top;\n",
       "    }\n",
       "\n",
       "    .dataframe thead th {\n",
       "        text-align: right;\n",
       "    }\n",
       "</style>\n",
       "<table border=\"1\" class=\"dataframe\">\n",
       "  <thead>\n",
       "    <tr style=\"text-align: right;\">\n",
       "      <th></th>\n",
       "      <th>Survived</th>\n",
       "      <th>Age</th>\n",
       "      <th>SibSp</th>\n",
       "      <th>Parch</th>\n",
       "      <th>Fare</th>\n",
       "    </tr>\n",
       "    <tr>\n",
       "      <th>Pclass</th>\n",
       "      <th></th>\n",
       "      <th></th>\n",
       "      <th></th>\n",
       "      <th></th>\n",
       "      <th></th>\n",
       "    </tr>\n",
       "  </thead>\n",
       "  <tbody>\n",
       "    <tr>\n",
       "      <th>1</th>\n",
       "      <td>0.629630</td>\n",
       "      <td>38.233441</td>\n",
       "      <td>0.416667</td>\n",
       "      <td>0.356481</td>\n",
       "      <td>84.154687</td>\n",
       "    </tr>\n",
       "    <tr>\n",
       "      <th>2</th>\n",
       "      <td>0.472826</td>\n",
       "      <td>29.877630</td>\n",
       "      <td>0.402174</td>\n",
       "      <td>0.380435</td>\n",
       "      <td>20.662183</td>\n",
       "    </tr>\n",
       "    <tr>\n",
       "      <th>3</th>\n",
       "      <td>0.242363</td>\n",
       "      <td>25.140620</td>\n",
       "      <td>0.615071</td>\n",
       "      <td>0.393075</td>\n",
       "      <td>13.675550</td>\n",
       "    </tr>\n",
       "  </tbody>\n",
       "</table>\n",
       "</div>"
      ],
      "text/plain": [
       "        Survived        Age     SibSp     Parch       Fare\n",
       "Pclass                                                    \n",
       "1       0.629630  38.233441  0.416667  0.356481  84.154687\n",
       "2       0.472826  29.877630  0.402174  0.380435  20.662183\n",
       "3       0.242363  25.140620  0.615071  0.393075  13.675550"
      ]
     },
     "execution_count": 9,
     "metadata": {},
     "output_type": "execute_result"
    }
   ],
   "source": [
    "# 등급별(Pclass) 통계 (평균)\n",
    "# groupby() : 원하는 컬럼을 중심으로 그룹핑 해주는 함수\n",
    "# Pclass 컬럼의 클래스별로 각 컬럼의 평균을 계산\n",
    "train.groupby(\"Pclass\").mean()"
   ]
  },
  {
   "cell_type": "markdown",
   "id": "ea6e0b1d",
   "metadata": {},
   "source": [
    "- 1등실 생존율이 높았다.\n",
    "- 나이를 보면 3등실에 나이가 적은 승객이 많았다.\n",
    "- 1등실일수록 가족수가 적었다. 3등실일수록 가족수가 많았다."
   ]
  },
  {
   "cell_type": "code",
   "execution_count": 10,
   "id": "3582b42b",
   "metadata": {},
   "outputs": [
    {
     "data": {
      "text/html": [
       "<div>\n",
       "<style scoped>\n",
       "    .dataframe tbody tr th:only-of-type {\n",
       "        vertical-align: middle;\n",
       "    }\n",
       "\n",
       "    .dataframe tbody tr th {\n",
       "        vertical-align: top;\n",
       "    }\n",
       "\n",
       "    .dataframe thead th {\n",
       "        text-align: right;\n",
       "    }\n",
       "</style>\n",
       "<table border=\"1\" class=\"dataframe\">\n",
       "  <thead>\n",
       "    <tr style=\"text-align: right;\">\n",
       "      <th></th>\n",
       "      <th></th>\n",
       "      <th>Age</th>\n",
       "      <th>SibSp</th>\n",
       "      <th>Parch</th>\n",
       "      <th>Fare</th>\n",
       "    </tr>\n",
       "    <tr>\n",
       "      <th>Pclass</th>\n",
       "      <th>Survived</th>\n",
       "      <th></th>\n",
       "      <th></th>\n",
       "      <th></th>\n",
       "      <th></th>\n",
       "    </tr>\n",
       "  </thead>\n",
       "  <tbody>\n",
       "    <tr>\n",
       "      <th rowspan=\"2\" valign=\"top\">1</th>\n",
       "      <th>0</th>\n",
       "      <td>43.695312</td>\n",
       "      <td>0.287500</td>\n",
       "      <td>0.300000</td>\n",
       "      <td>64.684007</td>\n",
       "    </tr>\n",
       "    <tr>\n",
       "      <th>1</th>\n",
       "      <td>35.368197</td>\n",
       "      <td>0.492647</td>\n",
       "      <td>0.389706</td>\n",
       "      <td>95.608029</td>\n",
       "    </tr>\n",
       "    <tr>\n",
       "      <th rowspan=\"2\" valign=\"top\">2</th>\n",
       "      <th>0</th>\n",
       "      <td>33.544444</td>\n",
       "      <td>0.319588</td>\n",
       "      <td>0.144330</td>\n",
       "      <td>19.412328</td>\n",
       "    </tr>\n",
       "    <tr>\n",
       "      <th>1</th>\n",
       "      <td>25.901566</td>\n",
       "      <td>0.494253</td>\n",
       "      <td>0.643678</td>\n",
       "      <td>22.055700</td>\n",
       "    </tr>\n",
       "    <tr>\n",
       "      <th rowspan=\"2\" valign=\"top\">3</th>\n",
       "      <th>0</th>\n",
       "      <td>26.555556</td>\n",
       "      <td>0.672043</td>\n",
       "      <td>0.384409</td>\n",
       "      <td>13.669364</td>\n",
       "    </tr>\n",
       "    <tr>\n",
       "      <th>1</th>\n",
       "      <td>20.646118</td>\n",
       "      <td>0.436975</td>\n",
       "      <td>0.420168</td>\n",
       "      <td>13.694887</td>\n",
       "    </tr>\n",
       "  </tbody>\n",
       "</table>\n",
       "</div>"
      ],
      "text/plain": [
       "                       Age     SibSp     Parch       Fare\n",
       "Pclass Survived                                          \n",
       "1      0         43.695312  0.287500  0.300000  64.684007\n",
       "       1         35.368197  0.492647  0.389706  95.608029\n",
       "2      0         33.544444  0.319588  0.144330  19.412328\n",
       "       1         25.901566  0.494253  0.643678  22.055700\n",
       "3      0         26.555556  0.672043  0.384409  13.669364\n",
       "       1         20.646118  0.436975  0.420168  13.694887"
      ]
     },
     "execution_count": 10,
     "metadata": {},
     "output_type": "execute_result"
    }
   ],
   "source": [
    "train.groupby([\"Pclass\", \"Survived\"]).mean()"
   ]
  },
  {
   "cell_type": "markdown",
   "id": "a9bcab41",
   "metadata": {},
   "source": [
    "- 3등실 승객의 사망/생존자의 요금은 비슷하다\n",
    "- 1등실 승객의 사망/생존자의 요금은 생존자의 요금이 더 비쌌다.\n",
    "- 같은 등급의 객실에서 나이가 어릴수록 생존률이 높았다."
   ]
  },
  {
   "cell_type": "markdown",
   "id": "2f08a938",
   "metadata": {},
   "source": [
    "## Age 결측치 채우기\n",
    "\n",
    "- 결측치가 있는 데이터의 다른 컬럼의 값과 같은 데이터의 평균값을 사용해서 결측치를 채움\n",
    "\n",
    "- 그러면 어떤 컬럼을 참조할까요?\n",
    "  - 결측치가 있는 컬럼(Age)와 상관관계가 높은 컬럼 선택(범주형)\n",
    "  \n",
    "- 피벗 테이블을 활용\n",
    "\n",
    "- apply()을 이용하여 전체 데이터의 결측치를 채움\n",
    "  - 데이터프레임의 데이터를 분리해서 원하는 처리를 수행한 후 다시 병합하는 함수 -> 재구조화 함수 (reconstruct function)"
   ]
  },
  {
   "cell_type": "code",
   "execution_count": 11,
   "id": "df0d9833",
   "metadata": {},
   "outputs": [
    {
     "data": {
      "text/html": [
       "<div>\n",
       "<style scoped>\n",
       "    .dataframe tbody tr th:only-of-type {\n",
       "        vertical-align: middle;\n",
       "    }\n",
       "\n",
       "    .dataframe tbody tr th {\n",
       "        vertical-align: top;\n",
       "    }\n",
       "\n",
       "    .dataframe thead th {\n",
       "        text-align: right;\n",
       "    }\n",
       "</style>\n",
       "<table border=\"1\" class=\"dataframe\">\n",
       "  <thead>\n",
       "    <tr style=\"text-align: right;\">\n",
       "      <th></th>\n",
       "      <th>Survived</th>\n",
       "      <th>Pclass</th>\n",
       "      <th>Age</th>\n",
       "      <th>SibSp</th>\n",
       "      <th>Parch</th>\n",
       "      <th>Fare</th>\n",
       "    </tr>\n",
       "  </thead>\n",
       "  <tbody>\n",
       "    <tr>\n",
       "      <th>Survived</th>\n",
       "      <td>1.000000</td>\n",
       "      <td>-0.338481</td>\n",
       "      <td>-0.077221</td>\n",
       "      <td>-0.035322</td>\n",
       "      <td>0.081629</td>\n",
       "      <td>0.257307</td>\n",
       "    </tr>\n",
       "    <tr>\n",
       "      <th>Pclass</th>\n",
       "      <td>-0.338481</td>\n",
       "      <td>1.000000</td>\n",
       "      <td>-0.369226</td>\n",
       "      <td>0.083081</td>\n",
       "      <td>0.018443</td>\n",
       "      <td>-0.549500</td>\n",
       "    </tr>\n",
       "    <tr>\n",
       "      <th>Age</th>\n",
       "      <td>-0.077221</td>\n",
       "      <td>-0.369226</td>\n",
       "      <td>1.000000</td>\n",
       "      <td>-0.308247</td>\n",
       "      <td>-0.189119</td>\n",
       "      <td>0.096067</td>\n",
       "    </tr>\n",
       "    <tr>\n",
       "      <th>SibSp</th>\n",
       "      <td>-0.035322</td>\n",
       "      <td>0.083081</td>\n",
       "      <td>-0.308247</td>\n",
       "      <td>1.000000</td>\n",
       "      <td>0.414838</td>\n",
       "      <td>0.159651</td>\n",
       "    </tr>\n",
       "    <tr>\n",
       "      <th>Parch</th>\n",
       "      <td>0.081629</td>\n",
       "      <td>0.018443</td>\n",
       "      <td>-0.189119</td>\n",
       "      <td>0.414838</td>\n",
       "      <td>1.000000</td>\n",
       "      <td>0.216225</td>\n",
       "    </tr>\n",
       "    <tr>\n",
       "      <th>Fare</th>\n",
       "      <td>0.257307</td>\n",
       "      <td>-0.549500</td>\n",
       "      <td>0.096067</td>\n",
       "      <td>0.159651</td>\n",
       "      <td>0.216225</td>\n",
       "      <td>1.000000</td>\n",
       "    </tr>\n",
       "  </tbody>\n",
       "</table>\n",
       "</div>"
      ],
      "text/plain": [
       "          Survived    Pclass       Age     SibSp     Parch      Fare\n",
       "Survived  1.000000 -0.338481 -0.077221 -0.035322  0.081629  0.257307\n",
       "Pclass   -0.338481  1.000000 -0.369226  0.083081  0.018443 -0.549500\n",
       "Age      -0.077221 -0.369226  1.000000 -0.308247 -0.189119  0.096067\n",
       "SibSp    -0.035322  0.083081 -0.308247  1.000000  0.414838  0.159651\n",
       "Parch     0.081629  0.018443 -0.189119  0.414838  1.000000  0.216225\n",
       "Fare      0.257307 -0.549500  0.096067  0.159651  0.216225  1.000000"
      ]
     },
     "execution_count": 11,
     "metadata": {},
     "output_type": "execute_result"
    }
   ],
   "source": [
    "# Age 컬럼과 상관관계가 높은 컬럼찾기\n",
    "train.corr()"
   ]
  },
  {
   "cell_type": "code",
   "execution_count": 12,
   "id": "34e1c106",
   "metadata": {},
   "outputs": [
    {
     "data": {
      "text/html": [
       "<div>\n",
       "<style scoped>\n",
       "    .dataframe tbody tr th:only-of-type {\n",
       "        vertical-align: middle;\n",
       "    }\n",
       "\n",
       "    .dataframe tbody tr th {\n",
       "        vertical-align: top;\n",
       "    }\n",
       "\n",
       "    .dataframe thead th {\n",
       "        text-align: right;\n",
       "    }\n",
       "</style>\n",
       "<table border=\"1\" class=\"dataframe\">\n",
       "  <thead>\n",
       "    <tr style=\"text-align: right;\">\n",
       "      <th></th>\n",
       "      <th></th>\n",
       "      <th>Age</th>\n",
       "    </tr>\n",
       "    <tr>\n",
       "      <th>Pclass</th>\n",
       "      <th>Sex</th>\n",
       "      <th></th>\n",
       "    </tr>\n",
       "  </thead>\n",
       "  <tbody>\n",
       "    <tr>\n",
       "      <th rowspan=\"2\" valign=\"top\">1</th>\n",
       "      <th>female</th>\n",
       "      <td>34.611765</td>\n",
       "    </tr>\n",
       "    <tr>\n",
       "      <th>male</th>\n",
       "      <td>41.281386</td>\n",
       "    </tr>\n",
       "    <tr>\n",
       "      <th rowspan=\"2\" valign=\"top\">2</th>\n",
       "      <th>female</th>\n",
       "      <td>28.722973</td>\n",
       "    </tr>\n",
       "    <tr>\n",
       "      <th>male</th>\n",
       "      <td>30.740707</td>\n",
       "    </tr>\n",
       "    <tr>\n",
       "      <th rowspan=\"2\" valign=\"top\">3</th>\n",
       "      <th>female</th>\n",
       "      <td>21.750000</td>\n",
       "    </tr>\n",
       "    <tr>\n",
       "      <th>male</th>\n",
       "      <td>26.507589</td>\n",
       "    </tr>\n",
       "  </tbody>\n",
       "</table>\n",
       "</div>"
      ],
      "text/plain": [
       "                     Age\n",
       "Pclass Sex              \n",
       "1      female  34.611765\n",
       "       male    41.281386\n",
       "2      female  28.722973\n",
       "       male    30.740707\n",
       "3      female  21.750000\n",
       "       male    26.507589"
      ]
     },
     "execution_count": 12,
     "metadata": {},
     "output_type": "execute_result"
    }
   ],
   "source": [
    "# 피벗 테이블 생성\n",
    "# values : 결측치를 채울 컬럼\n",
    "# index : 참고할 컬럼 목록 리스트\n",
    "# aggfunc : 사용할 수학 도구 (평균, 중간값)\n",
    "pt1 = train.pivot_table(values=\"Age\",\n",
    "                        index=[\"Pclass\", \"Sex\"],\n",
    "                        aggfunc = \"mean\")\n",
    "\n",
    "pt1"
   ]
  },
  {
   "cell_type": "code",
   "execution_count": 13,
   "id": "811941c3",
   "metadata": {},
   "outputs": [
    {
     "data": {
      "text/plain": [
       "Age    41.281386\n",
       "Name: (1, male), dtype: float64"
      ]
     },
     "execution_count": 13,
     "metadata": {},
     "output_type": "execute_result"
    }
   ],
   "source": [
    "# 피벗 테이블에 접근하는 방법\n",
    "pt1.loc[1, \"male\"]"
   ]
  },
  {
   "cell_type": "code",
   "execution_count": 14,
   "id": "5736d0c5",
   "metadata": {},
   "outputs": [],
   "source": [
    "import numpy as np\n",
    "# Age 컬럼의 결측치를 채우는 함수\n",
    "def fill_age(row):\n",
    "    # 한 줄 데이터에서 Age 컬럼이 결측치라면\n",
    "    if np.isnan(row[\"Age\"]):\n",
    "        # 피벗 테이블을 참조 (같은 Pclass와 Sex인 값을 반환)\n",
    "        return pt1.loc[row[\"Pclass\"], row[\"Sex\"]]\n",
    "    # 결측치가 아닌경우\n",
    "    else :\n",
    "        return row[\"Age\"]"
   ]
  },
  {
   "cell_type": "code",
   "execution_count": 15,
   "id": "0a128d5d",
   "metadata": {},
   "outputs": [],
   "source": [
    "# axis=1 : 한 줄 씩 넘긴다.\n",
    "# astype(\"int64\") : 나이는 실수가 없으니 정수로 변환\n",
    "# apply는 pandas or numpy에서 사용자 정의 기능을 적용할때 사용\n",
    "train[\"Age\"] = train.apply(fill_age, axis=1).astype(\"int64\")\n",
    "test[\"Age\"] = test.apply(fill_age, axis=1).astype(\"int64\")"
   ]
  },
  {
   "cell_type": "code",
   "execution_count": 16,
   "id": "9c233adc",
   "metadata": {},
   "outputs": [
    {
     "name": "stdout",
     "output_type": "stream",
     "text": [
      "<class 'pandas.core.frame.DataFrame'>\n",
      "Int64Index: 891 entries, 1 to 891\n",
      "Data columns (total 11 columns):\n",
      " #   Column    Non-Null Count  Dtype  \n",
      "---  ------    --------------  -----  \n",
      " 0   Survived  891 non-null    int64  \n",
      " 1   Pclass    891 non-null    int64  \n",
      " 2   Name      891 non-null    object \n",
      " 3   Sex       891 non-null    object \n",
      " 4   Age       891 non-null    int64  \n",
      " 5   SibSp     891 non-null    int64  \n",
      " 6   Parch     891 non-null    int64  \n",
      " 7   Ticket    891 non-null    object \n",
      " 8   Fare      891 non-null    float64\n",
      " 9   Cabin     204 non-null    object \n",
      " 10  Embarked  889 non-null    object \n",
      "dtypes: float64(1), int64(5), object(5)\n",
      "memory usage: 83.5+ KB\n"
     ]
    }
   ],
   "source": [
    "train.info()"
   ]
  },
  {
   "cell_type": "code",
   "execution_count": 17,
   "id": "d950d02e",
   "metadata": {},
   "outputs": [
    {
     "data": {
      "text/html": [
       "<div>\n",
       "<style scoped>\n",
       "    .dataframe tbody tr th:only-of-type {\n",
       "        vertical-align: middle;\n",
       "    }\n",
       "\n",
       "    .dataframe tbody tr th {\n",
       "        vertical-align: top;\n",
       "    }\n",
       "\n",
       "    .dataframe thead th {\n",
       "        text-align: right;\n",
       "    }\n",
       "</style>\n",
       "<table border=\"1\" class=\"dataframe\">\n",
       "  <thead>\n",
       "    <tr style=\"text-align: right;\">\n",
       "      <th></th>\n",
       "      <th></th>\n",
       "      <th>Age</th>\n",
       "    </tr>\n",
       "    <tr>\n",
       "      <th>Pclass</th>\n",
       "      <th>Sex</th>\n",
       "      <th></th>\n",
       "    </tr>\n",
       "  </thead>\n",
       "  <tbody>\n",
       "    <tr>\n",
       "      <th rowspan=\"2\" valign=\"top\">1</th>\n",
       "      <th>female</th>\n",
       "      <td>41.040000</td>\n",
       "    </tr>\n",
       "    <tr>\n",
       "      <th>male</th>\n",
       "      <td>40.561404</td>\n",
       "    </tr>\n",
       "    <tr>\n",
       "      <th rowspan=\"2\" valign=\"top\">2</th>\n",
       "      <th>female</th>\n",
       "      <td>24.466667</td>\n",
       "    </tr>\n",
       "    <tr>\n",
       "      <th>male</th>\n",
       "      <td>30.873016</td>\n",
       "    </tr>\n",
       "    <tr>\n",
       "      <th rowspan=\"2\" valign=\"top\">3</th>\n",
       "      <th>female</th>\n",
       "      <td>22.430556</td>\n",
       "    </tr>\n",
       "    <tr>\n",
       "      <th>male</th>\n",
       "      <td>24.979452</td>\n",
       "    </tr>\n",
       "  </tbody>\n",
       "</table>\n",
       "</div>"
      ],
      "text/plain": [
       "                     Age\n",
       "Pclass Sex              \n",
       "1      female  41.040000\n",
       "       male    40.561404\n",
       "2      female  24.466667\n",
       "       male    30.873016\n",
       "3      female  22.430556\n",
       "       male    24.979452"
      ]
     },
     "execution_count": 17,
     "metadata": {},
     "output_type": "execute_result"
    }
   ],
   "source": [
    "pt2 = test.pivot_table(values=\"Age\",\n",
    "                        index=[\"Pclass\", \"Sex\"],\n",
    "                        aggfunc = \"mean\")\n",
    "\n",
    "pt2"
   ]
  },
  {
   "cell_type": "code",
   "execution_count": 18,
   "id": "3682b26c",
   "metadata": {},
   "outputs": [],
   "source": [
    "def fill_age(row):\n",
    "    # 한 줄 데이터에서 Age 컬럼이 결측치라면\n",
    "    if np.isnan(row[\"Age\"]):\n",
    "        # 피벗 테이블을 참조 (같은 Pclass와 Sex인 값을 반환)\n",
    "        return pt2.loc[row[\"Pclass\"], row[\"Sex\"]]\n",
    "    # 결측치가 아닌경우\n",
    "    else :\n",
    "        return row[\"Age\"]"
   ]
  },
  {
   "cell_type": "code",
   "execution_count": 19,
   "id": "4b764379",
   "metadata": {},
   "outputs": [
    {
     "name": "stdout",
     "output_type": "stream",
     "text": [
      "<class 'pandas.core.frame.DataFrame'>\n",
      "Int64Index: 418 entries, 892 to 1309\n",
      "Data columns (total 10 columns):\n",
      " #   Column    Non-Null Count  Dtype  \n",
      "---  ------    --------------  -----  \n",
      " 0   Pclass    418 non-null    int64  \n",
      " 1   Name      418 non-null    object \n",
      " 2   Sex       418 non-null    object \n",
      " 3   Age       418 non-null    int64  \n",
      " 4   SibSp     418 non-null    int64  \n",
      " 5   Parch     418 non-null    int64  \n",
      " 6   Ticket    418 non-null    object \n",
      " 7   Fare      417 non-null    float64\n",
      " 8   Cabin     91 non-null     object \n",
      " 9   Embarked  418 non-null    object \n",
      "dtypes: float64(1), int64(4), object(5)\n",
      "memory usage: 35.9+ KB\n"
     ]
    }
   ],
   "source": [
    "test.info()"
   ]
  },
  {
   "cell_type": "markdown",
   "id": "3778eabc",
   "metadata": {},
   "source": [
    "## train 데이터의 Embarked 결측치 채우기"
   ]
  },
  {
   "cell_type": "code",
   "execution_count": 20,
   "id": "bba50fb6",
   "metadata": {},
   "outputs": [
    {
     "data": {
      "text/plain": [
       "S    644\n",
       "C    168\n",
       "Q     77\n",
       "Name: Embarked, dtype: int64"
      ]
     },
     "execution_count": 20,
     "metadata": {},
     "output_type": "execute_result"
    }
   ],
   "source": [
    "# 가장 많은 데이터 수를 갖는 클래스(S)로 결측치를 할당\n",
    "train[\"Embarked\"].value_counts()"
   ]
  },
  {
   "cell_type": "code",
   "execution_count": 21,
   "id": "33fbdac1",
   "metadata": {},
   "outputs": [],
   "source": [
    "train[\"Embarked\"] = train[\"Embarked\"].fillna(\"S\")"
   ]
  },
  {
   "cell_type": "code",
   "execution_count": 22,
   "id": "a34b7a40",
   "metadata": {},
   "outputs": [
    {
     "name": "stdout",
     "output_type": "stream",
     "text": [
      "<class 'pandas.core.frame.DataFrame'>\n",
      "Int64Index: 891 entries, 1 to 891\n",
      "Data columns (total 11 columns):\n",
      " #   Column    Non-Null Count  Dtype  \n",
      "---  ------    --------------  -----  \n",
      " 0   Survived  891 non-null    int64  \n",
      " 1   Pclass    891 non-null    int64  \n",
      " 2   Name      891 non-null    object \n",
      " 3   Sex       891 non-null    object \n",
      " 4   Age       891 non-null    int64  \n",
      " 5   SibSp     891 non-null    int64  \n",
      " 6   Parch     891 non-null    int64  \n",
      " 7   Ticket    891 non-null    object \n",
      " 8   Fare      891 non-null    float64\n",
      " 9   Cabin     204 non-null    object \n",
      " 10  Embarked  891 non-null    object \n",
      "dtypes: float64(1), int64(5), object(5)\n",
      "memory usage: 83.5+ KB\n"
     ]
    }
   ],
   "source": [
    "train.info()"
   ]
  },
  {
   "cell_type": "markdown",
   "id": "2e36bad6",
   "metadata": {},
   "source": [
    "## test 데이터의 결측치 채우기"
   ]
  },
  {
   "cell_type": "code",
   "execution_count": null,
   "id": "d6642eda",
   "metadata": {},
   "outputs": [],
   "source": []
  },
  {
   "cell_type": "code",
   "execution_count": 23,
   "id": "c4dc6fcb",
   "metadata": {},
   "outputs": [
    {
     "data": {
      "text/html": [
       "<div>\n",
       "<style scoped>\n",
       "    .dataframe tbody tr th:only-of-type {\n",
       "        vertical-align: middle;\n",
       "    }\n",
       "\n",
       "    .dataframe tbody tr th {\n",
       "        vertical-align: top;\n",
       "    }\n",
       "\n",
       "    .dataframe thead th {\n",
       "        text-align: right;\n",
       "    }\n",
       "</style>\n",
       "<table border=\"1\" class=\"dataframe\">\n",
       "  <thead>\n",
       "    <tr style=\"text-align: right;\">\n",
       "      <th></th>\n",
       "      <th>Pclass</th>\n",
       "      <th>Age</th>\n",
       "      <th>SibSp</th>\n",
       "      <th>Parch</th>\n",
       "      <th>Fare</th>\n",
       "    </tr>\n",
       "  </thead>\n",
       "  <tbody>\n",
       "    <tr>\n",
       "      <th>Pclass</th>\n",
       "      <td>1.000000</td>\n",
       "      <td>-0.520540</td>\n",
       "      <td>0.001087</td>\n",
       "      <td>0.018721</td>\n",
       "      <td>-0.577147</td>\n",
       "    </tr>\n",
       "    <tr>\n",
       "      <th>Age</th>\n",
       "      <td>-0.520540</td>\n",
       "      <td>1.000000</td>\n",
       "      <td>-0.084936</td>\n",
       "      <td>-0.062898</td>\n",
       "      <td>0.348593</td>\n",
       "    </tr>\n",
       "    <tr>\n",
       "      <th>SibSp</th>\n",
       "      <td>0.001087</td>\n",
       "      <td>-0.084936</td>\n",
       "      <td>1.000000</td>\n",
       "      <td>0.306895</td>\n",
       "      <td>0.171539</td>\n",
       "    </tr>\n",
       "    <tr>\n",
       "      <th>Parch</th>\n",
       "      <td>0.018721</td>\n",
       "      <td>-0.062898</td>\n",
       "      <td>0.306895</td>\n",
       "      <td>1.000000</td>\n",
       "      <td>0.230046</td>\n",
       "    </tr>\n",
       "    <tr>\n",
       "      <th>Fare</th>\n",
       "      <td>-0.577147</td>\n",
       "      <td>0.348593</td>\n",
       "      <td>0.171539</td>\n",
       "      <td>0.230046</td>\n",
       "      <td>1.000000</td>\n",
       "    </tr>\n",
       "  </tbody>\n",
       "</table>\n",
       "</div>"
      ],
      "text/plain": [
       "          Pclass       Age     SibSp     Parch      Fare\n",
       "Pclass  1.000000 -0.520540  0.001087  0.018721 -0.577147\n",
       "Age    -0.520540  1.000000 -0.084936 -0.062898  0.348593\n",
       "SibSp   0.001087 -0.084936  1.000000  0.306895  0.171539\n",
       "Parch   0.018721 -0.062898  0.306895  1.000000  0.230046\n",
       "Fare   -0.577147  0.348593  0.171539  0.230046  1.000000"
      ]
     },
     "execution_count": 23,
     "metadata": {},
     "output_type": "execute_result"
    }
   ],
   "source": [
    "test.corr()"
   ]
  },
  {
   "cell_type": "code",
   "execution_count": 24,
   "id": "92e91c08",
   "metadata": {},
   "outputs": [
    {
     "data": {
      "text/html": [
       "<div>\n",
       "<style scoped>\n",
       "    .dataframe tbody tr th:only-of-type {\n",
       "        vertical-align: middle;\n",
       "    }\n",
       "\n",
       "    .dataframe tbody tr th {\n",
       "        vertical-align: top;\n",
       "    }\n",
       "\n",
       "    .dataframe thead th {\n",
       "        text-align: right;\n",
       "    }\n",
       "</style>\n",
       "<table border=\"1\" class=\"dataframe\">\n",
       "  <thead>\n",
       "    <tr style=\"text-align: right;\">\n",
       "      <th></th>\n",
       "      <th></th>\n",
       "      <th>Fare</th>\n",
       "    </tr>\n",
       "    <tr>\n",
       "      <th>Pclass</th>\n",
       "      <th>Embarked</th>\n",
       "      <th></th>\n",
       "    </tr>\n",
       "  </thead>\n",
       "  <tbody>\n",
       "    <tr>\n",
       "      <th rowspan=\"3\" valign=\"top\">1</th>\n",
       "      <th>C</th>\n",
       "      <td>110.073511</td>\n",
       "    </tr>\n",
       "    <tr>\n",
       "      <th>Q</th>\n",
       "      <td>90.000000</td>\n",
       "    </tr>\n",
       "    <tr>\n",
       "      <th>S</th>\n",
       "      <td>76.677504</td>\n",
       "    </tr>\n",
       "    <tr>\n",
       "      <th rowspan=\"3\" valign=\"top\">2</th>\n",
       "      <th>C</th>\n",
       "      <td>20.120445</td>\n",
       "    </tr>\n",
       "    <tr>\n",
       "      <th>Q</th>\n",
       "      <td>11.273950</td>\n",
       "    </tr>\n",
       "    <tr>\n",
       "      <th>S</th>\n",
       "      <td>23.056090</td>\n",
       "    </tr>\n",
       "    <tr>\n",
       "      <th rowspan=\"3\" valign=\"top\">3</th>\n",
       "      <th>C</th>\n",
       "      <td>10.658700</td>\n",
       "    </tr>\n",
       "    <tr>\n",
       "      <th>Q</th>\n",
       "      <td>8.998985</td>\n",
       "    </tr>\n",
       "    <tr>\n",
       "      <th>S</th>\n",
       "      <td>13.913030</td>\n",
       "    </tr>\n",
       "  </tbody>\n",
       "</table>\n",
       "</div>"
      ],
      "text/plain": [
       "                       Fare\n",
       "Pclass Embarked            \n",
       "1      C         110.073511\n",
       "       Q          90.000000\n",
       "       S          76.677504\n",
       "2      C          20.120445\n",
       "       Q          11.273950\n",
       "       S          23.056090\n",
       "3      C          10.658700\n",
       "       Q           8.998985\n",
       "       S          13.913030"
      ]
     },
     "execution_count": 24,
     "metadata": {},
     "output_type": "execute_result"
    }
   ],
   "source": [
    "pt3 = test.pivot_table(values=\"Fare\",\n",
    "                        index=[\"Pclass\", \"Embarked\"],\n",
    "                        aggfunc = \"mean\")\n",
    "\n",
    "pt3"
   ]
  },
  {
   "cell_type": "code",
   "execution_count": 25,
   "id": "ce6e0825",
   "metadata": {},
   "outputs": [
    {
     "data": {
      "text/html": [
       "<div>\n",
       "<style scoped>\n",
       "    .dataframe tbody tr th:only-of-type {\n",
       "        vertical-align: middle;\n",
       "    }\n",
       "\n",
       "    .dataframe tbody tr th {\n",
       "        vertical-align: top;\n",
       "    }\n",
       "\n",
       "    .dataframe thead th {\n",
       "        text-align: right;\n",
       "    }\n",
       "</style>\n",
       "<table border=\"1\" class=\"dataframe\">\n",
       "  <thead>\n",
       "    <tr style=\"text-align: right;\">\n",
       "      <th></th>\n",
       "      <th>Pclass</th>\n",
       "      <th>Name</th>\n",
       "      <th>Sex</th>\n",
       "      <th>Age</th>\n",
       "      <th>SibSp</th>\n",
       "      <th>Parch</th>\n",
       "      <th>Ticket</th>\n",
       "      <th>Fare</th>\n",
       "      <th>Cabin</th>\n",
       "      <th>Embarked</th>\n",
       "    </tr>\n",
       "    <tr>\n",
       "      <th>PassengerId</th>\n",
       "      <th></th>\n",
       "      <th></th>\n",
       "      <th></th>\n",
       "      <th></th>\n",
       "      <th></th>\n",
       "      <th></th>\n",
       "      <th></th>\n",
       "      <th></th>\n",
       "      <th></th>\n",
       "      <th></th>\n",
       "    </tr>\n",
       "  </thead>\n",
       "  <tbody>\n",
       "    <tr>\n",
       "      <th>1044</th>\n",
       "      <td>3</td>\n",
       "      <td>Storey, Mr. Thomas</td>\n",
       "      <td>male</td>\n",
       "      <td>60</td>\n",
       "      <td>0</td>\n",
       "      <td>0</td>\n",
       "      <td>3701</td>\n",
       "      <td>NaN</td>\n",
       "      <td>NaN</td>\n",
       "      <td>S</td>\n",
       "    </tr>\n",
       "  </tbody>\n",
       "</table>\n",
       "</div>"
      ],
      "text/plain": [
       "             Pclass                Name   Sex  Age  SibSp  Parch Ticket  Fare  \\\n",
       "PassengerId                                                                     \n",
       "1044              3  Storey, Mr. Thomas  male   60      0      0   3701   NaN   \n",
       "\n",
       "            Cabin Embarked  \n",
       "PassengerId                 \n",
       "1044          NaN        S  "
      ]
     },
     "execution_count": 25,
     "metadata": {},
     "output_type": "execute_result"
    }
   ],
   "source": [
    "# 결측치가 있는 데이터를 확인\n",
    "test[test[\"Fare\"].isnull()]"
   ]
  },
  {
   "cell_type": "code",
   "execution_count": 26,
   "id": "74748032",
   "metadata": {},
   "outputs": [],
   "source": [
    "def fill_age(row):\n",
    "    if np.isnan(row[\"Fare\"]):\n",
    "        return pt3.loc[row[\"Pclass\"], row[\"Embarked\"]]\n",
    "    else :\n",
    "        return row[\"Fare\"]"
   ]
  },
  {
   "cell_type": "code",
   "execution_count": 27,
   "id": "37700f0a",
   "metadata": {},
   "outputs": [],
   "source": [
    "test[\"Fare\"] = test.apply(fill_age, axis=1)"
   ]
  },
  {
   "cell_type": "code",
   "execution_count": 28,
   "id": "7c10592b",
   "metadata": {},
   "outputs": [
    {
     "name": "stdout",
     "output_type": "stream",
     "text": [
      "<class 'pandas.core.frame.DataFrame'>\n",
      "Int64Index: 418 entries, 892 to 1309\n",
      "Data columns (total 10 columns):\n",
      " #   Column    Non-Null Count  Dtype \n",
      "---  ------    --------------  ----- \n",
      " 0   Pclass    418 non-null    int64 \n",
      " 1   Name      418 non-null    object\n",
      " 2   Sex       418 non-null    object\n",
      " 3   Age       418 non-null    int64 \n",
      " 4   SibSp     418 non-null    int64 \n",
      " 5   Parch     418 non-null    int64 \n",
      " 6   Ticket    418 non-null    object\n",
      " 7   Fare      418 non-null    object\n",
      " 8   Cabin     91 non-null     object\n",
      " 9   Embarked  418 non-null    object\n",
      "dtypes: int64(4), object(6)\n",
      "memory usage: 35.9+ KB\n"
     ]
    }
   ],
   "source": [
    "test.info()"
   ]
  },
  {
   "cell_type": "code",
   "execution_count": 29,
   "id": "f0075c21",
   "metadata": {},
   "outputs": [
    {
     "data": {
      "text/plain": [
       "Pclass                                                  3\n",
       "Name                                   Storey, Mr. Thomas\n",
       "Sex                                                  male\n",
       "Age                                                    60\n",
       "SibSp                                                   0\n",
       "Parch                                                   0\n",
       "Ticket                                               3701\n",
       "Fare        Fare    13.91303\n",
       "Name: (3, S), dtype: float64\n",
       "Cabin                                                 NaN\n",
       "Embarked                                                S\n",
       "Name: 1044, dtype: object"
      ]
     },
     "execution_count": 29,
     "metadata": {},
     "output_type": "execute_result"
    }
   ],
   "source": [
    "test.loc[1044]"
   ]
  },
  {
   "cell_type": "code",
   "execution_count": 30,
   "id": "bbaaa6ca",
   "metadata": {},
   "outputs": [],
   "source": [
    "# test[\"Fare\"] = test[\"Fare\"].fillna(float(pt2.loc[3, \"S\"]))"
   ]
  },
  {
   "cell_type": "markdown",
   "id": "c013f380",
   "metadata": {},
   "source": [
    "## Cabin 결측치 채우기\n",
    "- 결측치가 실제 객실이 없는 승객이었을 가능성이 있으므로 원래값에 중복되지 않는 영문자로 채움\n",
    "- 원래 객실번호의 첫번째 영문자만 추출"
   ]
  },
  {
   "cell_type": "code",
   "execution_count": 31,
   "id": "76e40d4c",
   "metadata": {},
   "outputs": [
    {
     "data": {
      "text/plain": [
       "array([nan, 'C85', 'C123', 'E46', 'G6', 'C103', 'D56', 'A6',\n",
       "       'C23 C25 C27', 'B78', 'D33', 'B30', 'C52', 'B28', 'C83', 'F33',\n",
       "       'F G73', 'E31', 'A5', 'D10 D12', 'D26', 'C110', 'B58 B60', 'E101',\n",
       "       'F E69', 'D47', 'B86', 'F2', 'C2', 'E33', 'B19', 'A7', 'C49', 'F4',\n",
       "       'A32', 'B4', 'B80', 'A31', 'D36', 'D15', 'C93', 'C78', 'D35',\n",
       "       'C87', 'B77', 'E67', 'B94', 'C125', 'C99', 'C118', 'D7', 'A19',\n",
       "       'B49', 'D', 'C22 C26', 'C106', 'C65', 'E36', 'C54',\n",
       "       'B57 B59 B63 B66', 'C7', 'E34', 'C32', 'B18', 'C124', 'C91', 'E40',\n",
       "       'T', 'C128', 'D37', 'B35', 'E50', 'C82', 'B96 B98', 'E10', 'E44',\n",
       "       'A34', 'C104', 'C111', 'C92', 'E38', 'D21', 'E12', 'E63', 'A14',\n",
       "       'B37', 'C30', 'D20', 'B79', 'E25', 'D46', 'B73', 'C95', 'B38',\n",
       "       'B39', 'B22', 'C86', 'C70', 'A16', 'C101', 'C68', 'A10', 'E68',\n",
       "       'B41', 'A20', 'D19', 'D50', 'D9', 'A23', 'B50', 'A26', 'D48',\n",
       "       'E58', 'C126', 'B71', 'B51 B53 B55', 'D49', 'B5', 'B20', 'F G63',\n",
       "       'C62 C64', 'E24', 'C90', 'C45', 'E8', 'B101', 'D45', 'C46', 'D30',\n",
       "       'E121', 'D11', 'E77', 'F38', 'B3', 'D6', 'B82 B84', 'D17', 'A36',\n",
       "       'B102', 'B69', 'E49', 'C47', 'D28', 'E17', 'A24', 'C50', 'B42',\n",
       "       'C148'], dtype=object)"
      ]
     },
     "execution_count": 31,
     "metadata": {},
     "output_type": "execute_result"
    }
   ],
   "source": [
    "train[\"Cabin\"].unique()"
   ]
  },
  {
   "cell_type": "code",
   "execution_count": 32,
   "id": "328f95d6",
   "metadata": {},
   "outputs": [],
   "source": [
    "#결측치를 M으로 채움\n",
    "train[\"Cabin\"] = train[\"Cabin\"].fillna(\"M\")\n",
    "test[\"Cabin\"] = test[\"Cabin\"].fillna(\"M\")"
   ]
  },
  {
   "cell_type": "code",
   "execution_count": 33,
   "id": "a0efdfde",
   "metadata": {},
   "outputs": [
    {
     "name": "stdout",
     "output_type": "stream",
     "text": [
      "<class 'pandas.core.frame.DataFrame'>\n",
      "Int64Index: 891 entries, 1 to 891\n",
      "Data columns (total 11 columns):\n",
      " #   Column    Non-Null Count  Dtype  \n",
      "---  ------    --------------  -----  \n",
      " 0   Survived  891 non-null    int64  \n",
      " 1   Pclass    891 non-null    int64  \n",
      " 2   Name      891 non-null    object \n",
      " 3   Sex       891 non-null    object \n",
      " 4   Age       891 non-null    int64  \n",
      " 5   SibSp     891 non-null    int64  \n",
      " 6   Parch     891 non-null    int64  \n",
      " 7   Ticket    891 non-null    object \n",
      " 8   Fare      891 non-null    float64\n",
      " 9   Cabin     891 non-null    object \n",
      " 10  Embarked  891 non-null    object \n",
      "dtypes: float64(1), int64(5), object(5)\n",
      "memory usage: 83.5+ KB\n"
     ]
    }
   ],
   "source": [
    "train.info()"
   ]
  },
  {
   "cell_type": "code",
   "execution_count": 34,
   "id": "05df2d65",
   "metadata": {},
   "outputs": [
    {
     "name": "stdout",
     "output_type": "stream",
     "text": [
      "<class 'pandas.core.frame.DataFrame'>\n",
      "Int64Index: 418 entries, 892 to 1309\n",
      "Data columns (total 10 columns):\n",
      " #   Column    Non-Null Count  Dtype \n",
      "---  ------    --------------  ----- \n",
      " 0   Pclass    418 non-null    int64 \n",
      " 1   Name      418 non-null    object\n",
      " 2   Sex       418 non-null    object\n",
      " 3   Age       418 non-null    int64 \n",
      " 4   SibSp     418 non-null    int64 \n",
      " 5   Parch     418 non-null    int64 \n",
      " 6   Ticket    418 non-null    object\n",
      " 7   Fare      418 non-null    object\n",
      " 8   Cabin     418 non-null    object\n",
      " 9   Embarked  418 non-null    object\n",
      "dtypes: int64(4), object(6)\n",
      "memory usage: 52.1+ KB\n"
     ]
    }
   ],
   "source": [
    "test.info()"
   ]
  },
  {
   "cell_type": "code",
   "execution_count": 35,
   "id": "9ffa9dd6",
   "metadata": {},
   "outputs": [],
   "source": [
    "# 원래 객실번호의 첫번째 영문자 추출\n",
    "train[\"Cabin\"] = train[\"Cabin\"].str[0]\n",
    "test[\"Cabin\"] = test[\"Cabin\"].str[0]"
   ]
  },
  {
   "cell_type": "code",
   "execution_count": 36,
   "id": "a2eb5ffb",
   "metadata": {},
   "outputs": [
    {
     "data": {
      "text/plain": [
       "array(['M', 'C', 'E', 'G', 'D', 'A', 'B', 'F', 'T'], dtype=object)"
      ]
     },
     "execution_count": 36,
     "metadata": {},
     "output_type": "execute_result"
    }
   ],
   "source": [
    "train[\"Cabin\"].unique()"
   ]
  },
  {
   "cell_type": "markdown",
   "id": "b95f5c6b",
   "metadata": {},
   "source": [
    "## 데이터 시각화 하기\n",
    "\n",
    "- test데이터를 활용하지 않고 train데이터를 이용해서 시각화/탐색하는게 좋다.\n"
   ]
  },
  {
   "cell_type": "markdown",
   "id": "7a9bc83b",
   "metadata": {},
   "source": [
    "### 범주형 데이턱 시각화\n",
    "- 빈도기반의 bar chart를 많이 활용"
   ]
  },
  {
   "cell_type": "code",
   "execution_count": 37,
   "id": "192899e0",
   "metadata": {},
   "outputs": [],
   "source": [
    "# matplotlib기반의 데이터 시각화 라이브러리\n",
    "import seaborn as sns"
   ]
  },
  {
   "cell_type": "markdown",
   "id": "81a92df6",
   "metadata": {},
   "source": [
    "#### Cabin시각화"
   ]
  },
  {
   "cell_type": "code",
   "execution_count": 38,
   "id": "33b7d6ab",
   "metadata": {},
   "outputs": [
    {
     "data": {
      "text/plain": [
       "<AxesSubplot:xlabel='Cabin', ylabel='count'>"
      ]
     },
     "execution_count": 38,
     "metadata": {},
     "output_type": "execute_result"
    },
    {
     "data": {
      "image/png": "[encoded data removed]",
      "text/plain": [
       "<Figure size 432x288 with 1 Axes>"
      ]
     },
     "metadata": {
      "needs_background": "light"
     },
     "output_type": "display_data"
    }
   ],
   "source": [
    "sns.countplot(data=train, #사용할 데이터 지정\n",
    "              x = \"Cabin\", # x축에서 번주로 사용할 컬럼 지정\n",
    "              hue = 'Survived') # 각 범주를 분리할 컬럼 지정"
   ]
  },
  {
   "cell_type": "markdown",
   "id": "bbf45f2f",
   "metadata": {},
   "source": [
    "- B,D 같은 경우는 살아남기에 괜찮은 객실일 수 있다.\n",
    "- M 같은 경우는 죽은 사람들의 비율이 엄청 높다."
   ]
  },
  {
   "cell_type": "markdown",
   "id": "64cdbd17",
   "metadata": {},
   "source": [
    "#### Pclass 시각화"
   ]
  },
  {
   "cell_type": "code",
   "execution_count": 39,
   "id": "5ec2a7a6",
   "metadata": {},
   "outputs": [
    {
     "data": {
      "text/plain": [
       "<AxesSubplot:xlabel='Pclass', ylabel='count'>"
      ]
     },
     "execution_count": 39,
     "metadata": {},
     "output_type": "execute_result"
    },
    {
     "data": {
      "image/png": "[encoded data removed]",
      "text/plain": [
       "<Figure size 432x288 with 1 Axes>"
      ]
     },
     "metadata": {
      "needs_background": "light"
     },
     "output_type": "display_data"
    }
   ],
   "source": [
    "sns.countplot(data=train, x=\"Pclass\", hue = \"Survived\")"
   ]
  },
  {
   "cell_type": "markdown",
   "id": "fdefe2a3",
   "metadata": {},
   "source": [
    "#### Cabin&Pclass 시각화"
   ]
  },
  {
   "cell_type": "code",
   "execution_count": 40,
   "id": "50255698",
   "metadata": {},
   "outputs": [
    {
     "data": {
      "text/plain": [
       "<AxesSubplot:xlabel='Cabin', ylabel='count'>"
      ]
     },
     "execution_count": 40,
     "metadata": {},
     "output_type": "execute_result"
    },
    {
     "data": {
      "image/png": "[encoded data removed]",
      "text/plain": [
       "<Figure size 432x288 with 1 Axes>"
      ]
     },
     "metadata": {
      "needs_background": "light"
     },
     "output_type": "display_data"
    }
   ],
   "source": [
    "sns.countplot(data=train,\n",
    "              x = \"Cabin\", \n",
    "              hue = 'Pclass') \n"
   ]
  },
  {
   "cell_type": "markdown",
   "id": "a6bdb194",
   "metadata": {},
   "source": [
    "- M에는 3등급이 많이 있어서 죽은 사람의 비율이 높아보인거 같다.\n",
    "- M이 생존여부 판단에는 도움이 덜 될 수 있겠다."
   ]
  },
  {
   "attachments": {
    "image.png": {
     "image/png": "[encoded data removed]"
    }
   },
   "cell_type": "markdown",
   "id": "89b2c4d1",
   "metadata": {},
   "source": [
    "### 수치형 데이터 시각화\n",
    "- 구간을 나눠서 종합하는 히스토그램\n",
    "- 커널밀도 추정 그래프\n",
    "\n",
    "![image.png](attachment:image.png)"
   ]
  },
  {
   "cell_type": "code",
   "execution_count": 41,
   "id": "3fd9e424",
   "metadata": {},
   "outputs": [],
   "source": [
    "import matplotlib.pyplot as plt"
   ]
  },
  {
   "cell_type": "markdown",
   "id": "6c63531a",
   "metadata": {},
   "source": [
    "#### matplotlib hist 함수"
   ]
  },
  {
   "cell_type": "code",
   "execution_count": 42,
   "id": "d4ed3ec7",
   "metadata": {},
   "outputs": [
    {
     "data": {
      "image/png": "[encoded data removed]",
      "text/plain": [
       "<Figure size 432x288 with 1 Axes>"
      ]
     },
     "metadata": {
      "needs_background": "light"
     },
     "output_type": "display_data"
    }
   ],
   "source": [
    "plt.hist(train['Age'], bins=10)\n",
    "plt.show()"
   ]
  },
  {
   "cell_type": "markdown",
   "id": "54b31463",
   "metadata": {},
   "source": [
    "#### seaborn histplot  함수"
   ]
  },
  {
   "cell_type": "code",
   "execution_count": 43,
   "id": "8aceb4ed",
   "metadata": {},
   "outputs": [
    {
     "data": {
      "text/plain": [
       "<AxesSubplot:xlabel='Age', ylabel='Count'>"
      ]
     },
     "execution_count": 43,
     "metadata": {},
     "output_type": "execute_result"
    },
    {
     "data": {
      "image/png": "[encoded data removed]",
      "text/plain": [
       "<Figure size 432x288 with 1 Axes>"
      ]
     },
     "metadata": {
      "needs_background": "light"
     },
     "output_type": "display_data"
    }
   ],
   "source": [
    "# https://seaborn.pydata.org/examples/index.html\n",
    "sns.histplot(data=train, x=train['Age'], bins=30)"
   ]
  },
  {
   "cell_type": "code",
   "execution_count": 44,
   "id": "730b796b",
   "metadata": {},
   "outputs": [
    {
     "data": {
      "text/plain": [
       "<AxesSubplot:xlabel='Age', ylabel='Count'>"
      ]
     },
     "execution_count": 44,
     "metadata": {},
     "output_type": "execute_result"
    },
    {
     "data": {
      "image/png": "[encoded data removed]",
      "text/plain": [
       "<Figure size 432x288 with 1 Axes>"
      ]
     },
     "metadata": {
      "needs_background": "light"
     },
     "output_type": "display_data"
    }
   ],
   "source": [
    "sns.histplot(data=train, x=train['Age'], bins=20, hue='Survived')"
   ]
  },
  {
   "cell_type": "markdown",
   "id": "642508ba",
   "metadata": {},
   "source": [
    "- 25대 중~후반의 사람들이 죽은 비율이 높다.\n",
    "- 10살 미만의 사람들이 생존 비율이 약간 높다.\n",
    "   - 패턴을 보이니 학습시켰을 때 괜찮겠다."
   ]
  },
  {
   "cell_type": "markdown",
   "id": "5130c213",
   "metadata": {},
   "source": [
    "#### 커널밀도추정 그래프"
   ]
  },
  {
   "cell_type": "code",
   "execution_count": 45,
   "id": "f4a25636",
   "metadata": {},
   "outputs": [
    {
     "data": {
      "text/plain": [
       "<AxesSubplot:xlabel='Fare', ylabel='Density'>"
      ]
     },
     "execution_count": 45,
     "metadata": {},
     "output_type": "execute_result"
    },
    {
     "data": {
      "image/png": "[encoded data removed]",
      "text/plain": [
       "<Figure size 432x288 with 1 Axes>"
      ]
     },
     "metadata": {
      "needs_background": "light"
     },
     "output_type": "display_data"
    }
   ],
   "source": [
    "sns.kdeplot(data=train, x=train['Fare'], hue='Survived')"
   ]
  },
  {
   "cell_type": "markdown",
   "id": "0de7e69e",
   "metadata": {},
   "source": [
    "- 0~40달러 사이의 사람은 죽은 사람의 밀도가 높다.\n",
    "- 200달러 이상의 사람은 생존의 밀도가 아주 살짝높다."
   ]
  },
  {
   "cell_type": "markdown",
   "id": "5bbda499",
   "metadata": {},
   "source": [
    "#### 바이올린플롯 그래프 시각화\n",
    "- 박스 + KDE 그래프"
   ]
  },
  {
   "cell_type": "code",
   "execution_count": 46,
   "id": "904019e3",
   "metadata": {},
   "outputs": [
    {
     "data": {
      "text/plain": [
       "<AxesSubplot:xlabel='Sex', ylabel='Age'>"
      ]
     },
     "execution_count": 46,
     "metadata": {},
     "output_type": "execute_result"
    },
    {
     "data": {
      "image/png": "[encoded data removed]",
      "text/plain": [
       "<Figure size 1080x360 with 1 Axes>"
      ]
     },
     "metadata": {
      "needs_background": "light"
     },
     "output_type": "display_data"
    }
   ],
   "source": [
    "plt.figure(figsize=(15,5)) #그림의 가로,세로 크기 설정\n",
    "sns.violinplot(data=train, # 사용할 데이터\n",
    "              x = 'Sex',\n",
    "              y = 'Age',\n",
    "              hue='Survived',\n",
    "              split=True) # 떨어져있던거 붙여서 보기쉽게해준다."
   ]
  },
  {
   "cell_type": "markdown",
   "id": "cd8db69b",
   "metadata": {},
   "source": [
    "### 텍스트 데이터\n",
    "- 비정형 데이터는 단어중심 시각화\n",
    "- wordcloud\n",
    "- 빈도기반의 시각화 활용기능"
   ]
  },
  {
   "cell_type": "markdown",
   "id": "64a1442a",
   "metadata": {},
   "source": [
    "# 특성공학\n",
    "- feature에서 유의미한 컬럼을 추출하거나 병합하는 행위"
   ]
  },
  {
   "cell_type": "code",
   "execution_count": 47,
   "id": "0355da70",
   "metadata": {},
   "outputs": [
    {
     "data": {
      "text/plain": [
       "Index(['Survived', 'Pclass', 'Name', 'Sex', 'Age', 'SibSp', 'Parch', 'Ticket',\n",
       "       'Fare', 'Cabin', 'Embarked'],\n",
       "      dtype='object')"
      ]
     },
     "execution_count": 47,
     "metadata": {},
     "output_type": "execute_result"
    }
   ],
   "source": [
    "train.columns"
   ]
  },
  {
   "cell_type": "markdown",
   "id": "0808b941",
   "metadata": {},
   "source": [
    "## 가족 컬럼을 만들어보자.\n",
    "- SibSp와 Parch를 병합하자"
   ]
  },
  {
   "cell_type": "code",
   "execution_count": 48,
   "id": "a0e58563",
   "metadata": {},
   "outputs": [
    {
     "data": {
      "text/plain": [
       "<AxesSubplot:xlabel='SibSp', ylabel='count'>"
      ]
     },
     "execution_count": 48,
     "metadata": {},
     "output_type": "execute_result"
    },
    {
     "data": {
      "image/png": "[encoded data removed]",
      "text/plain": [
       "<Figure size 432x288 with 1 Axes>"
      ]
     },
     "metadata": {
      "needs_background": "light"
     },
     "output_type": "display_data"
    }
   ],
   "source": [
    "sns.countplot(data=train,\n",
    "             x='SibSp',\n",
    "             hue = 'Survived')"
   ]
  },
  {
   "cell_type": "code",
   "execution_count": 49,
   "id": "519146a6",
   "metadata": {},
   "outputs": [
    {
     "data": {
      "text/plain": [
       "<AxesSubplot:xlabel='Parch', ylabel='count'>"
      ]
     },
     "execution_count": 49,
     "metadata": {},
     "output_type": "execute_result"
    },
    {
     "data": {
      "image/png": "[encoded data removed]",
      "text/plain": [
       "<Figure size 432x288 with 1 Axes>"
      ]
     },
     "metadata": {
      "needs_background": "light"
     },
     "output_type": "display_data"
    }
   ],
   "source": [
    "sns.countplot(data=train,\n",
    "             x='Parch',\n",
    "             hue = 'Survived')"
   ]
  },
  {
   "cell_type": "code",
   "execution_count": 50,
   "id": "868d695b",
   "metadata": {},
   "outputs": [],
   "source": [
    "# SibSp와 Parch의 컬럼을 합쳐 새로운 Family라는 새로운 컬럼을 생성\n",
    "train['Family'] = train['SibSp'] + train['Parch']"
   ]
  },
  {
   "cell_type": "code",
   "execution_count": 51,
   "id": "0ddc01dc",
   "metadata": {},
   "outputs": [
    {
     "data": {
      "text/plain": [
       "<AxesSubplot:xlabel='Family', ylabel='count'>"
      ]
     },
     "execution_count": 51,
     "metadata": {},
     "output_type": "execute_result"
    },
    {
     "data": {
      "image/png": "[encoded data removed]",
      "text/plain": [
       "<Figure size 432x288 with 1 Axes>"
      ]
     },
     "metadata": {
      "needs_background": "light"
     },
     "output_type": "display_data"
    }
   ],
   "source": [
    "sns.countplot(data=train,\n",
    "             x='Family',\n",
    "             hue = 'Survived')"
   ]
  },
  {
   "cell_type": "markdown",
   "id": "226c270d",
   "metadata": {},
   "source": [
    "### Cut함수를 이용한 Binning(수치 -> 범주)\n",
    "- 사소한 관찰 오류를 줄여줄 수 있다.(모델의 단순화를 유도)"
   ]
  },
  {
   "cell_type": "code",
   "execution_count": 52,
   "id": "83abb9b3",
   "metadata": {},
   "outputs": [],
   "source": [
    "bins = [-1,0,3,20] #데이터를 잘라낼 구간정보 설정 (0구간, 1~3구간, 4~20구간)\n",
    "labels = ['Alone', ' Small', 'Large'] #구간별 범주 이름\n",
    "cut_result = pd.cut(x=train['Family'],# 구간화할 데이터설정\n",
    "                   bins=bins, # 잘라낼 구간정보 설정\n",
    "                   labels=labels) #구간별 범주 이름 설정"
   ]
  },
  {
   "cell_type": "code",
   "execution_count": 53,
   "id": "0a10a7ac",
   "metadata": {},
   "outputs": [
    {
     "data": {
      "text/plain": [
       "PassengerId\n",
       "1       Small\n",
       "2       Small\n",
       "3       Alone\n",
       "4       Small\n",
       "5       Alone\n",
       "        ...  \n",
       "887     Alone\n",
       "888     Alone\n",
       "889     Small\n",
       "890     Alone\n",
       "891     Alone\n",
       "Name: Family, Length: 891, dtype: category\n",
       "Categories (3, object): ['Alone' < ' Small' < 'Large']"
      ]
     },
     "execution_count": 53,
     "metadata": {},
     "output_type": "execute_result"
    }
   ],
   "source": [
    "cut_result"
   ]
  },
  {
   "cell_type": "code",
   "execution_count": 54,
   "id": "61fe8647",
   "metadata": {},
   "outputs": [],
   "source": [
    "train['Family_cat'] = cut_result"
   ]
  },
  {
   "cell_type": "code",
   "execution_count": 55,
   "id": "59248993",
   "metadata": {},
   "outputs": [
    {
     "data": {
      "text/plain": [
       "<AxesSubplot:xlabel='Family_cat', ylabel='count'>"
      ]
     },
     "execution_count": 55,
     "metadata": {},
     "output_type": "execute_result"
    },
    {
     "data": {
      "image/png": "[encoded data removed]",
      "text/plain": [
       "<Figure size 432x288 with 1 Axes>"
      ]
     },
     "metadata": {
      "needs_background": "light"
     },
     "output_type": "display_data"
    }
   ],
   "source": [
    "sns.countplot(data=train,\n",
    "             x='Family_cat',\n",
    "             hue='Survived')"
   ]
  },
  {
   "cell_type": "code",
   "execution_count": 56,
   "id": "7fb129fa",
   "metadata": {},
   "outputs": [],
   "source": [
    "test['Family'] = test['SibSp'] + test['Parch']\n",
    "bins = [-1,0,3,20] \n",
    "labels = ['Alone', ' Small', 'Large']\n",
    "cut_result = pd.cut(x=test['Family'],\n",
    "                   bins=bins,\n",
    "                   labels=labels) "
   ]
  },
  {
   "cell_type": "code",
   "execution_count": 57,
   "id": "b4f07527",
   "metadata": {},
   "outputs": [],
   "source": [
    "test['Family_cat'] = cut_result"
   ]
  },
  {
   "cell_type": "markdown",
   "id": "eb13bd2a",
   "metadata": {},
   "source": [
    "## 비정형 데이터 다루기(Name)\n",
    "- 이름 중간에 호칭을 추출해서 사용해보자"
   ]
  },
  {
   "cell_type": "code",
   "execution_count": 58,
   "id": "2760af45",
   "metadata": {},
   "outputs": [
    {
     "data": {
      "text/plain": [
       "PassengerId\n",
       "1                                Braund, Mr. Owen Harris\n",
       "2      Cumings, Mrs. John Bradley (Florence Briggs Th...\n",
       "3                                 Heikkinen, Miss. Laina\n",
       "4           Futrelle, Mrs. Jacques Heath (Lily May Peel)\n",
       "5                               Allen, Mr. William Henry\n",
       "                             ...                        \n",
       "887                                Montvila, Rev. Juozas\n",
       "888                         Graham, Miss. Margaret Edith\n",
       "889             Johnston, Miss. Catherine Helen \"Carrie\"\n",
       "890                                Behr, Mr. Karl Howell\n",
       "891                                  Dooley, Mr. Patrick\n",
       "Name: Name, Length: 891, dtype: object"
      ]
     },
     "execution_count": 58,
     "metadata": {},
     "output_type": "execute_result"
    }
   ],
   "source": [
    "train['Name']  #train의 Name데이터는 Series데이터 형식이다."
   ]
  },
  {
   "cell_type": "code",
   "execution_count": 59,
   "id": "ebe61e9e",
   "metadata": {},
   "outputs": [],
   "source": [
    "def split_title(row):\n",
    "    return row.split(\",\")[1].split(\".\")[0].strip() #한줄씩 들어오면 한줄씩 실행시켜준다. strip() 공백제거"
   ]
  },
  {
   "cell_type": "code",
   "execution_count": 60,
   "id": "252baa74",
   "metadata": {},
   "outputs": [],
   "source": [
    "train['Title'] = train['Name'].apply(split_title)\n",
    "test['Title'] = test['Name'].apply(split_title)"
   ]
  },
  {
   "cell_type": "markdown",
   "id": "613d6f60",
   "metadata": {},
   "source": [
    "### countplot 시각화"
   ]
  },
  {
   "cell_type": "code",
   "execution_count": 61,
   "id": "7535e071",
   "metadata": {},
   "outputs": [
    {
     "data": {
      "text/plain": [
       "<AxesSubplot:xlabel='Title', ylabel='count'>"
      ]
     },
     "execution_count": 61,
     "metadata": {},
     "output_type": "execute_result"
    },
    {
     "data": {
      "image/png": "[encoded data removed]",
      "text/plain": [
       "<Figure size 1080x360 with 1 Axes>"
      ]
     },
     "metadata": {
      "needs_background": "light"
     },
     "output_type": "display_data"
    }
   ],
   "source": [
    "plt.figure(figsize=(15,5))\n",
    "sns.countplot(data=train,\n",
    "             x='Title',\n",
    "             hue='Survived')"
   ]
  },
  {
   "cell_type": "markdown",
   "id": "99cd476d",
   "metadata": {},
   "source": [
    "- 일부 수치가 적은 호칭을 Other로 통일하자.\n",
    "- Mr. Mrs, Miss, Master, Rev, Other"
   ]
  },
  {
   "cell_type": "code",
   "execution_count": 62,
   "id": "98c8af29",
   "metadata": {},
   "outputs": [],
   "source": [
    "# map 합수 이용하기(데이터 치환시 사용) 결측치를 NaN으로 표시해준다\n",
    "title_dic= {\n",
    "    \"Mr\":\"Mr\",\n",
    "    \"Mrs\":\"Mrs\",\n",
    "    \"Miss\":\"Miss\",\n",
    "    \"Master\":\"Master\",\n",
    "    \"Rev\":\"Rev\"\n",
    "}"
   ]
  },
  {
   "cell_type": "code",
   "execution_count": 63,
   "id": "b575ed56",
   "metadata": {},
   "outputs": [
    {
     "data": {
      "text/plain": [
       "PassengerId\n",
       "31     NaN\n",
       "246    NaN\n",
       "318    NaN\n",
       "370    NaN\n",
       "399    NaN\n",
       "444    NaN\n",
       "450    NaN\n",
       "537    NaN\n",
       "557    NaN\n",
       "600    NaN\n",
       "633    NaN\n",
       "642    NaN\n",
       "648    NaN\n",
       "661    NaN\n",
       "695    NaN\n",
       "711    NaN\n",
       "746    NaN\n",
       "760    NaN\n",
       "767    NaN\n",
       "797    NaN\n",
       "823    NaN\n",
       "Name: Title, dtype: object"
      ]
     },
     "execution_count": 63,
     "metadata": {},
     "output_type": "execute_result"
    }
   ],
   "source": [
    "title_mapping = train['Title'].map(title_dic)\n",
    "title_mapping[title_mapping.isnull()]"
   ]
  },
  {
   "cell_type": "code",
   "execution_count": 64,
   "id": "7d13cd36",
   "metadata": {},
   "outputs": [],
   "source": [
    "train['Title'] = title_mapping.fillna(\"Other\")"
   ]
  },
  {
   "cell_type": "code",
   "execution_count": 65,
   "id": "a68f89df",
   "metadata": {},
   "outputs": [],
   "source": [
    "#test 적용\n",
    "title_mapping = test['Title'].map(title_dic)\n",
    "test['Title'] = title_mapping.fillna(\"Other\")"
   ]
  },
  {
   "cell_type": "code",
   "execution_count": 66,
   "id": "7222a818",
   "metadata": {},
   "outputs": [
    {
     "name": "stdout",
     "output_type": "stream",
     "text": [
      "['Mr' 'Mrs' 'Miss' 'Master' 'Other' 'Rev']\n",
      "['Mr' 'Mrs' 'Miss' 'Master' 'Other' 'Rev']\n"
     ]
    }
   ],
   "source": [
    "print(train['Title'].unique())\n",
    "print(test['Title'].unique())"
   ]
  },
  {
   "cell_type": "markdown",
   "id": "34c92d9d",
   "metadata": {},
   "source": [
    "### 사용하지 않을 컬럼 정리"
   ]
  },
  {
   "cell_type": "code",
   "execution_count": 67,
   "id": "e11878e0",
   "metadata": {},
   "outputs": [
    {
     "data": {
      "text/plain": [
       "Index(['Survived', 'Pclass', 'Name', 'Sex', 'Age', 'SibSp', 'Parch', 'Ticket',\n",
       "       'Fare', 'Cabin', 'Embarked', 'Family', 'Family_cat', 'Title'],\n",
       "      dtype='object')"
      ]
     },
     "execution_count": 67,
     "metadata": {},
     "output_type": "execute_result"
    }
   ],
   "source": [
    "train.columns  #Name, SibSp, Parch, Ticket 제거"
   ]
  },
  {
   "cell_type": "code",
   "execution_count": 68,
   "id": "d4ccc1d7",
   "metadata": {},
   "outputs": [
    {
     "data": {
      "text/plain": [
       "Index(['Pclass', 'Name', 'Sex', 'Age', 'SibSp', 'Parch', 'Ticket', 'Fare',\n",
       "       'Cabin', 'Embarked', 'Family', 'Family_cat', 'Title'],\n",
       "      dtype='object')"
      ]
     },
     "execution_count": 68,
     "metadata": {},
     "output_type": "execute_result"
    }
   ],
   "source": [
    "test.columns  # 트레인과 동일하게 진행"
   ]
  },
  {
   "cell_type": "code",
   "execution_count": 69,
   "id": "e36c2229",
   "metadata": {},
   "outputs": [],
   "source": [
    "train.drop(['Name','SibSp','Parch','Ticket'], axis=1, inplace=True)"
   ]
  },
  {
   "cell_type": "code",
   "execution_count": 70,
   "id": "56c61df4",
   "metadata": {},
   "outputs": [],
   "source": [
    "test.drop(['Name','SibSp','Parch','Ticket'], axis=1, inplace=True)"
   ]
  },
  {
   "cell_type": "code",
   "execution_count": 71,
   "id": "b301c738",
   "metadata": {},
   "outputs": [
    {
     "name": "stdout",
     "output_type": "stream",
     "text": [
      "train columns : Index(['Survived', 'Pclass', 'Sex', 'Age', 'Fare', 'Cabin', 'Embarked',\n",
      "       'Family', 'Family_cat', 'Title'],\n",
      "      dtype='object')\n",
      "test columns : Index(['Pclass', 'Sex', 'Age', 'Fare', 'Cabin', 'Embarked', 'Family',\n",
      "       'Family_cat', 'Title'],\n",
      "      dtype='object')\n"
     ]
    }
   ],
   "source": [
    "print(\"train columns :\",train.columns)\n",
    "print(\"test columns :\",test.columns)"
   ]
  },
  {
   "cell_type": "markdown",
   "id": "0883df82",
   "metadata": {},
   "source": [
    "# 모델링\n",
    "- 인코딩(문자형태의 데이터를 숫자형태로 변환)\n",
    "   1. label encoding\n",
    "   2. one-hot encoding\n",
    "- 특성선택(feature selection)\n",
    "- 모델선택 및 하이퍼파라미터 튜닝\n",
    "- 모델학습 및 평가"
   ]
  },
  {
   "cell_type": "markdown",
   "id": "17028e76",
   "metadata": {},
   "source": [
    "## 인코딩"
   ]
  },
  {
   "cell_type": "code",
   "execution_count": 72,
   "id": "7558e606",
   "metadata": {},
   "outputs": [
    {
     "data": {
      "text/plain": [
       "Index(['Survived', 'Pclass', 'Sex', 'Age', 'Fare', 'Cabin', 'Embarked',\n",
       "       'Family', 'Family_cat', 'Title'],\n",
       "      dtype='object')"
      ]
     },
     "execution_count": 72,
     "metadata": {},
     "output_type": "execute_result"
    }
   ],
   "source": [
    "# 인코딩을 해주는 컬럼의 순서가 있는지 생각한다. ex)순서가 있다면 라벨인코딩 없다면 원핫인코딩\n",
    "train.columns  #인코딩을 해줘야하는 컬럼(Sex, Cabin, Embarked, Family_cat, Title)\n"
   ]
  },
  {
   "cell_type": "code",
   "execution_count": 73,
   "id": "ec8fd355",
   "metadata": {},
   "outputs": [],
   "source": [
    "# 인코딩할 컬럼명만 선택\n",
    "categorical_features = ['Sex', 'Cabin', 'Embarked', 'Family_cat', 'Title']"
   ]
  },
  {
   "cell_type": "code",
   "execution_count": 74,
   "id": "471e9937",
   "metadata": {},
   "outputs": [],
   "source": [
    "#pd.get_dummies(train['Sex'])"
   ]
  },
  {
   "cell_type": "code",
   "execution_count": 75,
   "id": "b9d796ad",
   "metadata": {},
   "outputs": [],
   "source": [
    "# 반복문으로 인코딩하기, prefix = () 인코딩할때 컬럼에서 중복된 키워드가 있을때 쓰는것\n",
    "for feature_name in categorical_features :\n",
    "    one_hot = pd.get_dummies(train[feature_name], prefix=feature_name)\n",
    "    train = pd.concat([train, one_hot], axis=1) # 기존데이터 끝에 one_hot을 붙임\n",
    "    train.drop(feature_name, axis=1,inplace=True) #기존 글자 컬럼을 삭제"
   ]
  },
  {
   "cell_type": "code",
   "execution_count": 76,
   "id": "71c8172d",
   "metadata": {},
   "outputs": [
    {
     "data": {
      "text/html": [
       "<div>\n",
       "<style scoped>\n",
       "    .dataframe tbody tr th:only-of-type {\n",
       "        vertical-align: middle;\n",
       "    }\n",
       "\n",
       "    .dataframe tbody tr th {\n",
       "        vertical-align: top;\n",
       "    }\n",
       "\n",
       "    .dataframe thead th {\n",
       "        text-align: right;\n",
       "    }\n",
       "</style>\n",
       "<table border=\"1\" class=\"dataframe\">\n",
       "  <thead>\n",
       "    <tr style=\"text-align: right;\">\n",
       "      <th></th>\n",
       "      <th>Survived</th>\n",
       "      <th>Pclass</th>\n",
       "      <th>Age</th>\n",
       "      <th>Fare</th>\n",
       "      <th>Family</th>\n",
       "      <th>Sex_female</th>\n",
       "      <th>Sex_male</th>\n",
       "      <th>Cabin_A</th>\n",
       "      <th>Cabin_B</th>\n",
       "      <th>Cabin_C</th>\n",
       "      <th>...</th>\n",
       "      <th>Embarked_S</th>\n",
       "      <th>Family_cat_Alone</th>\n",
       "      <th>Family_cat_ Small</th>\n",
       "      <th>Family_cat_Large</th>\n",
       "      <th>Title_Master</th>\n",
       "      <th>Title_Miss</th>\n",
       "      <th>Title_Mr</th>\n",
       "      <th>Title_Mrs</th>\n",
       "      <th>Title_Other</th>\n",
       "      <th>Title_Rev</th>\n",
       "    </tr>\n",
       "    <tr>\n",
       "      <th>PassengerId</th>\n",
       "      <th></th>\n",
       "      <th></th>\n",
       "      <th></th>\n",
       "      <th></th>\n",
       "      <th></th>\n",
       "      <th></th>\n",
       "      <th></th>\n",
       "      <th></th>\n",
       "      <th></th>\n",
       "      <th></th>\n",
       "      <th></th>\n",
       "      <th></th>\n",
       "      <th></th>\n",
       "      <th></th>\n",
       "      <th></th>\n",
       "      <th></th>\n",
       "      <th></th>\n",
       "      <th></th>\n",
       "      <th></th>\n",
       "      <th></th>\n",
       "      <th></th>\n",
       "    </tr>\n",
       "  </thead>\n",
       "  <tbody>\n",
       "    <tr>\n",
       "      <th>1</th>\n",
       "      <td>0</td>\n",
       "      <td>3</td>\n",
       "      <td>22</td>\n",
       "      <td>7.2500</td>\n",
       "      <td>1</td>\n",
       "      <td>0</td>\n",
       "      <td>1</td>\n",
       "      <td>0</td>\n",
       "      <td>0</td>\n",
       "      <td>0</td>\n",
       "      <td>...</td>\n",
       "      <td>1</td>\n",
       "      <td>0</td>\n",
       "      <td>1</td>\n",
       "      <td>0</td>\n",
       "      <td>0</td>\n",
       "      <td>0</td>\n",
       "      <td>1</td>\n",
       "      <td>0</td>\n",
       "      <td>0</td>\n",
       "      <td>0</td>\n",
       "    </tr>\n",
       "    <tr>\n",
       "      <th>2</th>\n",
       "      <td>1</td>\n",
       "      <td>1</td>\n",
       "      <td>38</td>\n",
       "      <td>71.2833</td>\n",
       "      <td>1</td>\n",
       "      <td>1</td>\n",
       "      <td>0</td>\n",
       "      <td>0</td>\n",
       "      <td>0</td>\n",
       "      <td>1</td>\n",
       "      <td>...</td>\n",
       "      <td>0</td>\n",
       "      <td>0</td>\n",
       "      <td>1</td>\n",
       "      <td>0</td>\n",
       "      <td>0</td>\n",
       "      <td>0</td>\n",
       "      <td>0</td>\n",
       "      <td>1</td>\n",
       "      <td>0</td>\n",
       "      <td>0</td>\n",
       "    </tr>\n",
       "    <tr>\n",
       "      <th>3</th>\n",
       "      <td>1</td>\n",
       "      <td>3</td>\n",
       "      <td>26</td>\n",
       "      <td>7.9250</td>\n",
       "      <td>0</td>\n",
       "      <td>1</td>\n",
       "      <td>0</td>\n",
       "      <td>0</td>\n",
       "      <td>0</td>\n",
       "      <td>0</td>\n",
       "      <td>...</td>\n",
       "      <td>1</td>\n",
       "      <td>1</td>\n",
       "      <td>0</td>\n",
       "      <td>0</td>\n",
       "      <td>0</td>\n",
       "      <td>1</td>\n",
       "      <td>0</td>\n",
       "      <td>0</td>\n",
       "      <td>0</td>\n",
       "      <td>0</td>\n",
       "    </tr>\n",
       "    <tr>\n",
       "      <th>4</th>\n",
       "      <td>1</td>\n",
       "      <td>1</td>\n",
       "      <td>35</td>\n",
       "      <td>53.1000</td>\n",
       "      <td>1</td>\n",
       "      <td>1</td>\n",
       "      <td>0</td>\n",
       "      <td>0</td>\n",
       "      <td>0</td>\n",
       "      <td>1</td>\n",
       "      <td>...</td>\n",
       "      <td>1</td>\n",
       "      <td>0</td>\n",
       "      <td>1</td>\n",
       "      <td>0</td>\n",
       "      <td>0</td>\n",
       "      <td>0</td>\n",
       "      <td>0</td>\n",
       "      <td>1</td>\n",
       "      <td>0</td>\n",
       "      <td>0</td>\n",
       "    </tr>\n",
       "    <tr>\n",
       "      <th>5</th>\n",
       "      <td>0</td>\n",
       "      <td>3</td>\n",
       "      <td>35</td>\n",
       "      <td>8.0500</td>\n",
       "      <td>0</td>\n",
       "      <td>0</td>\n",
       "      <td>1</td>\n",
       "      <td>0</td>\n",
       "      <td>0</td>\n",
       "      <td>0</td>\n",
       "      <td>...</td>\n",
       "      <td>1</td>\n",
       "      <td>1</td>\n",
       "      <td>0</td>\n",
       "      <td>0</td>\n",
       "      <td>0</td>\n",
       "      <td>0</td>\n",
       "      <td>1</td>\n",
       "      <td>0</td>\n",
       "      <td>0</td>\n",
       "      <td>0</td>\n",
       "    </tr>\n",
       "  </tbody>\n",
       "</table>\n",
       "<p>5 rows × 28 columns</p>\n",
       "</div>"
      ],
      "text/plain": [
       "             Survived  Pclass  Age     Fare  Family  Sex_female  Sex_male  \\\n",
       "PassengerId                                                                 \n",
       "1                   0       3   22   7.2500       1           0         1   \n",
       "2                   1       1   38  71.2833       1           1         0   \n",
       "3                   1       3   26   7.9250       0           1         0   \n",
       "4                   1       1   35  53.1000       1           1         0   \n",
       "5                   0       3   35   8.0500       0           0         1   \n",
       "\n",
       "             Cabin_A  Cabin_B  Cabin_C  ...  Embarked_S  Family_cat_Alone  \\\n",
       "PassengerId                             ...                                 \n",
       "1                  0        0        0  ...           1                 0   \n",
       "2                  0        0        1  ...           0                 0   \n",
       "3                  0        0        0  ...           1                 1   \n",
       "4                  0        0        1  ...           1                 0   \n",
       "5                  0        0        0  ...           1                 1   \n",
       "\n",
       "             Family_cat_ Small  Family_cat_Large  Title_Master  Title_Miss  \\\n",
       "PassengerId                                                                  \n",
       "1                            1                 0             0           0   \n",
       "2                            1                 0             0           0   \n",
       "3                            0                 0             0           1   \n",
       "4                            1                 0             0           0   \n",
       "5                            0                 0             0           0   \n",
       "\n",
       "             Title_Mr  Title_Mrs  Title_Other  Title_Rev  \n",
       "PassengerId                                               \n",
       "1                   1          0            0          0  \n",
       "2                   0          1            0          0  \n",
       "3                   0          0            0          0  \n",
       "4                   0          1            0          0  \n",
       "5                   1          0            0          0  \n",
       "\n",
       "[5 rows x 28 columns]"
      ]
     },
     "execution_count": 76,
     "metadata": {},
     "output_type": "execute_result"
    }
   ],
   "source": [
    "train.head()"
   ]
  },
  {
   "cell_type": "code",
   "execution_count": 77,
   "id": "e07b145b",
   "metadata": {},
   "outputs": [],
   "source": [
    "# 테스트 데이터도 동일하게 진행\n",
    "for feature_name in categorical_features :\n",
    "    one_hot = pd.get_dummies(test[feature_name], prefix=feature_name)\n",
    "    test = pd.concat([test, one_hot], axis=1)\n",
    "    test.drop(feature_name, axis=1,inplace=True)"
   ]
  },
  {
   "cell_type": "code",
   "execution_count": 78,
   "id": "baa6b636",
   "metadata": {},
   "outputs": [
    {
     "data": {
      "text/html": [
       "<div>\n",
       "<style scoped>\n",
       "    .dataframe tbody tr th:only-of-type {\n",
       "        vertical-align: middle;\n",
       "    }\n",
       "\n",
       "    .dataframe tbody tr th {\n",
       "        vertical-align: top;\n",
       "    }\n",
       "\n",
       "    .dataframe thead th {\n",
       "        text-align: right;\n",
       "    }\n",
       "</style>\n",
       "<table border=\"1\" class=\"dataframe\">\n",
       "  <thead>\n",
       "    <tr style=\"text-align: right;\">\n",
       "      <th></th>\n",
       "      <th>Pclass</th>\n",
       "      <th>Age</th>\n",
       "      <th>Fare</th>\n",
       "      <th>Family</th>\n",
       "      <th>Sex_female</th>\n",
       "      <th>Sex_male</th>\n",
       "      <th>Cabin_A</th>\n",
       "      <th>Cabin_B</th>\n",
       "      <th>Cabin_C</th>\n",
       "      <th>Cabin_D</th>\n",
       "      <th>...</th>\n",
       "      <th>Embarked_S</th>\n",
       "      <th>Family_cat_Alone</th>\n",
       "      <th>Family_cat_ Small</th>\n",
       "      <th>Family_cat_Large</th>\n",
       "      <th>Title_Master</th>\n",
       "      <th>Title_Miss</th>\n",
       "      <th>Title_Mr</th>\n",
       "      <th>Title_Mrs</th>\n",
       "      <th>Title_Other</th>\n",
       "      <th>Title_Rev</th>\n",
       "    </tr>\n",
       "    <tr>\n",
       "      <th>PassengerId</th>\n",
       "      <th></th>\n",
       "      <th></th>\n",
       "      <th></th>\n",
       "      <th></th>\n",
       "      <th></th>\n",
       "      <th></th>\n",
       "      <th></th>\n",
       "      <th></th>\n",
       "      <th></th>\n",
       "      <th></th>\n",
       "      <th></th>\n",
       "      <th></th>\n",
       "      <th></th>\n",
       "      <th></th>\n",
       "      <th></th>\n",
       "      <th></th>\n",
       "      <th></th>\n",
       "      <th></th>\n",
       "      <th></th>\n",
       "      <th></th>\n",
       "      <th></th>\n",
       "    </tr>\n",
       "  </thead>\n",
       "  <tbody>\n",
       "    <tr>\n",
       "      <th>892</th>\n",
       "      <td>3</td>\n",
       "      <td>34</td>\n",
       "      <td>7.8292</td>\n",
       "      <td>0</td>\n",
       "      <td>0</td>\n",
       "      <td>1</td>\n",
       "      <td>0</td>\n",
       "      <td>0</td>\n",
       "      <td>0</td>\n",
       "      <td>0</td>\n",
       "      <td>...</td>\n",
       "      <td>0</td>\n",
       "      <td>1</td>\n",
       "      <td>0</td>\n",
       "      <td>0</td>\n",
       "      <td>0</td>\n",
       "      <td>0</td>\n",
       "      <td>1</td>\n",
       "      <td>0</td>\n",
       "      <td>0</td>\n",
       "      <td>0</td>\n",
       "    </tr>\n",
       "    <tr>\n",
       "      <th>893</th>\n",
       "      <td>3</td>\n",
       "      <td>47</td>\n",
       "      <td>7.0</td>\n",
       "      <td>1</td>\n",
       "      <td>1</td>\n",
       "      <td>0</td>\n",
       "      <td>0</td>\n",
       "      <td>0</td>\n",
       "      <td>0</td>\n",
       "      <td>0</td>\n",
       "      <td>...</td>\n",
       "      <td>1</td>\n",
       "      <td>0</td>\n",
       "      <td>1</td>\n",
       "      <td>0</td>\n",
       "      <td>0</td>\n",
       "      <td>0</td>\n",
       "      <td>0</td>\n",
       "      <td>1</td>\n",
       "      <td>0</td>\n",
       "      <td>0</td>\n",
       "    </tr>\n",
       "    <tr>\n",
       "      <th>894</th>\n",
       "      <td>2</td>\n",
       "      <td>62</td>\n",
       "      <td>9.6875</td>\n",
       "      <td>0</td>\n",
       "      <td>0</td>\n",
       "      <td>1</td>\n",
       "      <td>0</td>\n",
       "      <td>0</td>\n",
       "      <td>0</td>\n",
       "      <td>0</td>\n",
       "      <td>...</td>\n",
       "      <td>0</td>\n",
       "      <td>1</td>\n",
       "      <td>0</td>\n",
       "      <td>0</td>\n",
       "      <td>0</td>\n",
       "      <td>0</td>\n",
       "      <td>1</td>\n",
       "      <td>0</td>\n",
       "      <td>0</td>\n",
       "      <td>0</td>\n",
       "    </tr>\n",
       "    <tr>\n",
       "      <th>895</th>\n",
       "      <td>3</td>\n",
       "      <td>27</td>\n",
       "      <td>8.6625</td>\n",
       "      <td>0</td>\n",
       "      <td>0</td>\n",
       "      <td>1</td>\n",
       "      <td>0</td>\n",
       "      <td>0</td>\n",
       "      <td>0</td>\n",
       "      <td>0</td>\n",
       "      <td>...</td>\n",
       "      <td>1</td>\n",
       "      <td>1</td>\n",
       "      <td>0</td>\n",
       "      <td>0</td>\n",
       "      <td>0</td>\n",
       "      <td>0</td>\n",
       "      <td>1</td>\n",
       "      <td>0</td>\n",
       "      <td>0</td>\n",
       "      <td>0</td>\n",
       "    </tr>\n",
       "    <tr>\n",
       "      <th>896</th>\n",
       "      <td>3</td>\n",
       "      <td>22</td>\n",
       "      <td>12.2875</td>\n",
       "      <td>2</td>\n",
       "      <td>1</td>\n",
       "      <td>0</td>\n",
       "      <td>0</td>\n",
       "      <td>0</td>\n",
       "      <td>0</td>\n",
       "      <td>0</td>\n",
       "      <td>...</td>\n",
       "      <td>1</td>\n",
       "      <td>0</td>\n",
       "      <td>1</td>\n",
       "      <td>0</td>\n",
       "      <td>0</td>\n",
       "      <td>0</td>\n",
       "      <td>0</td>\n",
       "      <td>1</td>\n",
       "      <td>0</td>\n",
       "      <td>0</td>\n",
       "    </tr>\n",
       "  </tbody>\n",
       "</table>\n",
       "<p>5 rows × 26 columns</p>\n",
       "</div>"
      ],
      "text/plain": [
       "             Pclass  Age     Fare  Family  Sex_female  Sex_male  Cabin_A  \\\n",
       "PassengerId                                                                \n",
       "892               3   34   7.8292       0           0         1        0   \n",
       "893               3   47      7.0       1           1         0        0   \n",
       "894               2   62   9.6875       0           0         1        0   \n",
       "895               3   27   8.6625       0           0         1        0   \n",
       "896               3   22  12.2875       2           1         0        0   \n",
       "\n",
       "             Cabin_B  Cabin_C  Cabin_D  ...  Embarked_S  Family_cat_Alone  \\\n",
       "PassengerId                             ...                                 \n",
       "892                0        0        0  ...           0                 1   \n",
       "893                0        0        0  ...           1                 0   \n",
       "894                0        0        0  ...           0                 1   \n",
       "895                0        0        0  ...           1                 1   \n",
       "896                0        0        0  ...           1                 0   \n",
       "\n",
       "             Family_cat_ Small  Family_cat_Large  Title_Master  Title_Miss  \\\n",
       "PassengerId                                                                  \n",
       "892                          0                 0             0           0   \n",
       "893                          1                 0             0           0   \n",
       "894                          0                 0             0           0   \n",
       "895                          0                 0             0           0   \n",
       "896                          1                 0             0           0   \n",
       "\n",
       "             Title_Mr  Title_Mrs  Title_Other  Title_Rev  \n",
       "PassengerId                                               \n",
       "892                 1          0            0          0  \n",
       "893                 0          1            0          0  \n",
       "894                 1          0            0          0  \n",
       "895                 1          0            0          0  \n",
       "896                 0          1            0          0  \n",
       "\n",
       "[5 rows x 26 columns]"
      ]
     },
     "execution_count": 78,
     "metadata": {},
     "output_type": "execute_result"
    }
   ],
   "source": [
    "test.head()"
   ]
  },
  {
   "cell_type": "code",
   "execution_count": 79,
   "id": "16e0270e",
   "metadata": {},
   "outputs": [
    {
     "data": {
      "text/plain": [
       "((891, 28), (418, 26))"
      ]
     },
     "execution_count": 79,
     "metadata": {},
     "output_type": "execute_result"
    }
   ],
   "source": [
    "train.shape, test.shape"
   ]
  },
  {
   "cell_type": "code",
   "execution_count": 80,
   "id": "6d6731cd",
   "metadata": {},
   "outputs": [
    {
     "data": {
      "text/plain": [
       "{'Cabin_T', 'Survived'}"
      ]
     },
     "execution_count": 80,
     "metadata": {},
     "output_type": "execute_result"
    }
   ],
   "source": [
    "# 집합연산으로 다른 컬럼을 확인해보자.(집합은 중괄호안에 데이터만 들어있음)\n",
    "# 차집합 구할때 set() - set()\n",
    "set(train.columns) - set(test.columns)"
   ]
  },
  {
   "cell_type": "code",
   "execution_count": 81,
   "id": "e96ea443",
   "metadata": {},
   "outputs": [],
   "source": [
    "# train data는 Cabin_T가 존재했지만\n",
    "# test data는 Cabin_T가 없어서  one-hot 인코딩시 컬럼이 안만들어졌다.\n",
    "# test data 끝에 Cabin_T 를 추가하자\n",
    "test['Cabin_T'] = 0"
   ]
  },
  {
   "cell_type": "code",
   "execution_count": 82,
   "id": "b6d483fa",
   "metadata": {},
   "outputs": [
    {
     "data": {
      "text/html": [
       "<div>\n",
       "<style scoped>\n",
       "    .dataframe tbody tr th:only-of-type {\n",
       "        vertical-align: middle;\n",
       "    }\n",
       "\n",
       "    .dataframe tbody tr th {\n",
       "        vertical-align: top;\n",
       "    }\n",
       "\n",
       "    .dataframe thead th {\n",
       "        text-align: right;\n",
       "    }\n",
       "</style>\n",
       "<table border=\"1\" class=\"dataframe\">\n",
       "  <thead>\n",
       "    <tr style=\"text-align: right;\">\n",
       "      <th></th>\n",
       "      <th>Pclass</th>\n",
       "      <th>Age</th>\n",
       "      <th>Fare</th>\n",
       "      <th>Family</th>\n",
       "      <th>Sex_female</th>\n",
       "      <th>Sex_male</th>\n",
       "      <th>Cabin_A</th>\n",
       "      <th>Cabin_B</th>\n",
       "      <th>Cabin_C</th>\n",
       "      <th>Cabin_D</th>\n",
       "      <th>...</th>\n",
       "      <th>Family_cat_Alone</th>\n",
       "      <th>Family_cat_ Small</th>\n",
       "      <th>Family_cat_Large</th>\n",
       "      <th>Title_Master</th>\n",
       "      <th>Title_Miss</th>\n",
       "      <th>Title_Mr</th>\n",
       "      <th>Title_Mrs</th>\n",
       "      <th>Title_Other</th>\n",
       "      <th>Title_Rev</th>\n",
       "      <th>Cabin_T</th>\n",
       "    </tr>\n",
       "    <tr>\n",
       "      <th>PassengerId</th>\n",
       "      <th></th>\n",
       "      <th></th>\n",
       "      <th></th>\n",
       "      <th></th>\n",
       "      <th></th>\n",
       "      <th></th>\n",
       "      <th></th>\n",
       "      <th></th>\n",
       "      <th></th>\n",
       "      <th></th>\n",
       "      <th></th>\n",
       "      <th></th>\n",
       "      <th></th>\n",
       "      <th></th>\n",
       "      <th></th>\n",
       "      <th></th>\n",
       "      <th></th>\n",
       "      <th></th>\n",
       "      <th></th>\n",
       "      <th></th>\n",
       "      <th></th>\n",
       "    </tr>\n",
       "  </thead>\n",
       "  <tbody>\n",
       "    <tr>\n",
       "      <th>892</th>\n",
       "      <td>3</td>\n",
       "      <td>34</td>\n",
       "      <td>7.8292</td>\n",
       "      <td>0</td>\n",
       "      <td>0</td>\n",
       "      <td>1</td>\n",
       "      <td>0</td>\n",
       "      <td>0</td>\n",
       "      <td>0</td>\n",
       "      <td>0</td>\n",
       "      <td>...</td>\n",
       "      <td>1</td>\n",
       "      <td>0</td>\n",
       "      <td>0</td>\n",
       "      <td>0</td>\n",
       "      <td>0</td>\n",
       "      <td>1</td>\n",
       "      <td>0</td>\n",
       "      <td>0</td>\n",
       "      <td>0</td>\n",
       "      <td>0</td>\n",
       "    </tr>\n",
       "    <tr>\n",
       "      <th>893</th>\n",
       "      <td>3</td>\n",
       "      <td>47</td>\n",
       "      <td>7.0</td>\n",
       "      <td>1</td>\n",
       "      <td>1</td>\n",
       "      <td>0</td>\n",
       "      <td>0</td>\n",
       "      <td>0</td>\n",
       "      <td>0</td>\n",
       "      <td>0</td>\n",
       "      <td>...</td>\n",
       "      <td>0</td>\n",
       "      <td>1</td>\n",
       "      <td>0</td>\n",
       "      <td>0</td>\n",
       "      <td>0</td>\n",
       "      <td>0</td>\n",
       "      <td>1</td>\n",
       "      <td>0</td>\n",
       "      <td>0</td>\n",
       "      <td>0</td>\n",
       "    </tr>\n",
       "    <tr>\n",
       "      <th>894</th>\n",
       "      <td>2</td>\n",
       "      <td>62</td>\n",
       "      <td>9.6875</td>\n",
       "      <td>0</td>\n",
       "      <td>0</td>\n",
       "      <td>1</td>\n",
       "      <td>0</td>\n",
       "      <td>0</td>\n",
       "      <td>0</td>\n",
       "      <td>0</td>\n",
       "      <td>...</td>\n",
       "      <td>1</td>\n",
       "      <td>0</td>\n",
       "      <td>0</td>\n",
       "      <td>0</td>\n",
       "      <td>0</td>\n",
       "      <td>1</td>\n",
       "      <td>0</td>\n",
       "      <td>0</td>\n",
       "      <td>0</td>\n",
       "      <td>0</td>\n",
       "    </tr>\n",
       "    <tr>\n",
       "      <th>895</th>\n",
       "      <td>3</td>\n",
       "      <td>27</td>\n",
       "      <td>8.6625</td>\n",
       "      <td>0</td>\n",
       "      <td>0</td>\n",
       "      <td>1</td>\n",
       "      <td>0</td>\n",
       "      <td>0</td>\n",
       "      <td>0</td>\n",
       "      <td>0</td>\n",
       "      <td>...</td>\n",
       "      <td>1</td>\n",
       "      <td>0</td>\n",
       "      <td>0</td>\n",
       "      <td>0</td>\n",
       "      <td>0</td>\n",
       "      <td>1</td>\n",
       "      <td>0</td>\n",
       "      <td>0</td>\n",
       "      <td>0</td>\n",
       "      <td>0</td>\n",
       "    </tr>\n",
       "    <tr>\n",
       "      <th>896</th>\n",
       "      <td>3</td>\n",
       "      <td>22</td>\n",
       "      <td>12.2875</td>\n",
       "      <td>2</td>\n",
       "      <td>1</td>\n",
       "      <td>0</td>\n",
       "      <td>0</td>\n",
       "      <td>0</td>\n",
       "      <td>0</td>\n",
       "      <td>0</td>\n",
       "      <td>...</td>\n",
       "      <td>0</td>\n",
       "      <td>1</td>\n",
       "      <td>0</td>\n",
       "      <td>0</td>\n",
       "      <td>0</td>\n",
       "      <td>0</td>\n",
       "      <td>1</td>\n",
       "      <td>0</td>\n",
       "      <td>0</td>\n",
       "      <td>0</td>\n",
       "    </tr>\n",
       "  </tbody>\n",
       "</table>\n",
       "<p>5 rows × 27 columns</p>\n",
       "</div>"
      ],
      "text/plain": [
       "             Pclass  Age     Fare  Family  Sex_female  Sex_male  Cabin_A  \\\n",
       "PassengerId                                                                \n",
       "892               3   34   7.8292       0           0         1        0   \n",
       "893               3   47      7.0       1           1         0        0   \n",
       "894               2   62   9.6875       0           0         1        0   \n",
       "895               3   27   8.6625       0           0         1        0   \n",
       "896               3   22  12.2875       2           1         0        0   \n",
       "\n",
       "             Cabin_B  Cabin_C  Cabin_D  ...  Family_cat_Alone  \\\n",
       "PassengerId                             ...                     \n",
       "892                0        0        0  ...                 1   \n",
       "893                0        0        0  ...                 0   \n",
       "894                0        0        0  ...                 1   \n",
       "895                0        0        0  ...                 1   \n",
       "896                0        0        0  ...                 0   \n",
       "\n",
       "             Family_cat_ Small  Family_cat_Large  Title_Master  Title_Miss  \\\n",
       "PassengerId                                                                  \n",
       "892                          0                 0             0           0   \n",
       "893                          1                 0             0           0   \n",
       "894                          0                 0             0           0   \n",
       "895                          0                 0             0           0   \n",
       "896                          1                 0             0           0   \n",
       "\n",
       "             Title_Mr  Title_Mrs  Title_Other  Title_Rev  Cabin_T  \n",
       "PassengerId                                                        \n",
       "892                 1          0            0          0        0  \n",
       "893                 0          1            0          0        0  \n",
       "894                 1          0            0          0        0  \n",
       "895                 1          0            0          0        0  \n",
       "896                 0          1            0          0        0  \n",
       "\n",
       "[5 rows x 27 columns]"
      ]
     },
     "execution_count": 82,
     "metadata": {},
     "output_type": "execute_result"
    }
   ],
   "source": [
    "test.head()"
   ]
  },
  {
   "cell_type": "code",
   "execution_count": 83,
   "id": "031723d3",
   "metadata": {},
   "outputs": [],
   "source": [
    "# 훈련데이터와 테스트 데이터의 인덱스 순서가 다르기때문에 정렬해주자.\n",
    "train.sort_index(axis=1, inplace=True)\n",
    "test.sort_index(axis=1, inplace=True)"
   ]
  },
  {
   "cell_type": "code",
   "execution_count": 84,
   "id": "44287117",
   "metadata": {},
   "outputs": [
    {
     "data": {
      "text/plain": [
       "Index(['Age', 'Cabin_A', 'Cabin_B', 'Cabin_C', 'Cabin_D', 'Cabin_E', 'Cabin_F',\n",
       "       'Cabin_G', 'Cabin_M', 'Cabin_T', 'Embarked_C', 'Embarked_Q',\n",
       "       'Embarked_S', 'Family', 'Family_cat_ Small', 'Family_cat_Alone',\n",
       "       'Family_cat_Large', 'Fare', 'Pclass', 'Sex_female', 'Sex_male',\n",
       "       'Survived', 'Title_Master', 'Title_Miss', 'Title_Mr', 'Title_Mrs',\n",
       "       'Title_Other', 'Title_Rev'],\n",
       "      dtype='object')"
      ]
     },
     "execution_count": 84,
     "metadata": {},
     "output_type": "execute_result"
    }
   ],
   "source": [
    "train.columns"
   ]
  },
  {
   "cell_type": "code",
   "execution_count": 85,
   "id": "717919fc",
   "metadata": {},
   "outputs": [
    {
     "data": {
      "text/plain": [
       "Index(['Age', 'Cabin_A', 'Cabin_B', 'Cabin_C', 'Cabin_D', 'Cabin_E', 'Cabin_F',\n",
       "       'Cabin_G', 'Cabin_M', 'Cabin_T', 'Embarked_C', 'Embarked_Q',\n",
       "       'Embarked_S', 'Family', 'Family_cat_ Small', 'Family_cat_Alone',\n",
       "       'Family_cat_Large', 'Fare', 'Pclass', 'Sex_female', 'Sex_male',\n",
       "       'Title_Master', 'Title_Miss', 'Title_Mr', 'Title_Mrs', 'Title_Other',\n",
       "       'Title_Rev'],\n",
       "      dtype='object')"
      ]
     },
     "execution_count": 85,
     "metadata": {},
     "output_type": "execute_result"
    }
   ],
   "source": [
    "test.columns"
   ]
  },
  {
   "cell_type": "markdown",
   "id": "9944368f",
   "metadata": {},
   "source": [
    "## 특성선택\n",
    "- 예측결과에 영향을 줄 특성들을 골라본다.\n",
    "- Family와 Family_cat이 비슷한 특서이기 때문에 선택해보자."
   ]
  },
  {
   "cell_type": "markdown",
   "id": "24835bfd",
   "metadata": {},
   "source": [
    "### 문제와 답 만들기"
   ]
  },
  {
   "cell_type": "code",
   "execution_count": 86,
   "id": "648d8f92",
   "metadata": {},
   "outputs": [],
   "source": [
    "X_train = train.drop(['Survived', 'Family'], axis =1)\n",
    "y_train = train.Survived # pandas 지원기능 컬럼이 하나이면 train.Survived == train['Survived']\n",
    "X_test = test.drop('Family', axis=1)"
   ]
  },
  {
   "cell_type": "code",
   "execution_count": 87,
   "id": "ac3f9a02",
   "metadata": {},
   "outputs": [
    {
     "data": {
      "text/plain": [
       "((891, 26), (891,))"
      ]
     },
     "execution_count": 87,
     "metadata": {},
     "output_type": "execute_result"
    }
   ],
   "source": [
    "X_train.shape, y_train.shape"
   ]
  },
  {
   "cell_type": "code",
   "execution_count": 88,
   "id": "cec5eaee",
   "metadata": {},
   "outputs": [
    {
     "data": {
      "text/plain": [
       "(418, 26)"
      ]
     },
     "execution_count": 88,
     "metadata": {},
     "output_type": "execute_result"
    }
   ],
   "source": [
    "X_test.shape"
   ]
  },
  {
   "cell_type": "markdown",
   "id": "17f01637",
   "metadata": {},
   "source": [
    "## 학습\n",
    "- KNN모델과 DecisionTree모델 활용"
   ]
  },
  {
   "cell_type": "code",
   "execution_count": 89,
   "id": "e1fa12b2",
   "metadata": {},
   "outputs": [],
   "source": [
    "from sklearn.neighbors import KNeighborsClassifier\n",
    "from sklearn.tree import DecisionTreeClassifier"
   ]
  },
  {
   "cell_type": "code",
   "execution_count": 90,
   "id": "88d28ac9",
   "metadata": {},
   "outputs": [],
   "source": [
    "# 모델 생성\n",
    "knn_model = KNeighborsClassifier()\n",
    "tree_model = DecisionTreeClassifier()"
   ]
  },
  {
   "cell_type": "code",
   "execution_count": 91,
   "id": "7b1203aa",
   "metadata": {},
   "outputs": [
    {
     "data": {
      "text/plain": [
       "DecisionTreeClassifier()"
      ]
     },
     "execution_count": 91,
     "metadata": {},
     "output_type": "execute_result"
    }
   ],
   "source": [
    "knn_model.fit(X_train, y_train)\n",
    "tree_model.fit(X_train, y_train)"
   ]
  },
  {
   "cell_type": "code",
   "execution_count": 92,
   "id": "1b8ef160",
   "metadata": {},
   "outputs": [],
   "source": [
    "# 모델 예측\n",
    "knn_pre = knn_model.predict(X_test)\n",
    "tree_pre = tree_model.predict(X_test)"
   ]
  },
  {
   "cell_type": "code",
   "execution_count": null,
   "id": "17a32c2a",
   "metadata": {},
   "outputs": [],
   "source": [
    "tree_model = DecisionTreeClassifier()\n",
    "tree_model.fit(X_train, y_train)\n",
    "tree_pre = tree_model.predict(X_test)\n",
    "submission['Survived'] = tree_pre\n",
    "submission.to_csv(\"./data/tree_pre.scv\", index=False)"
   ]
  },
  {
   "cell_type": "code",
   "execution_count": 93,
   "id": "a68123b8",
   "metadata": {},
   "outputs": [],
   "source": [
    "# 정답파일만들기\n",
    "submission = pd.read_csv('./data/gender_submission.csv')"
   ]
  },
  {
   "cell_type": "code",
   "execution_count": 94,
   "id": "8b15f84d",
   "metadata": {},
   "outputs": [
    {
     "data": {
      "text/html": [
       "<div>\n",
       "<style scoped>\n",
       "    .dataframe tbody tr th:only-of-type {\n",
       "        vertical-align: middle;\n",
       "    }\n",
       "\n",
       "    .dataframe tbody tr th {\n",
       "        vertical-align: top;\n",
       "    }\n",
       "\n",
       "    .dataframe thead th {\n",
       "        text-align: right;\n",
       "    }\n",
       "</style>\n",
       "<table border=\"1\" class=\"dataframe\">\n",
       "  <thead>\n",
       "    <tr style=\"text-align: right;\">\n",
       "      <th></th>\n",
       "      <th>PassengerId</th>\n",
       "      <th>Survived</th>\n",
       "    </tr>\n",
       "  </thead>\n",
       "  <tbody>\n",
       "    <tr>\n",
       "      <th>0</th>\n",
       "      <td>892</td>\n",
       "      <td>0</td>\n",
       "    </tr>\n",
       "    <tr>\n",
       "      <th>1</th>\n",
       "      <td>893</td>\n",
       "      <td>1</td>\n",
       "    </tr>\n",
       "    <tr>\n",
       "      <th>2</th>\n",
       "      <td>894</td>\n",
       "      <td>0</td>\n",
       "    </tr>\n",
       "    <tr>\n",
       "      <th>3</th>\n",
       "      <td>895</td>\n",
       "      <td>0</td>\n",
       "    </tr>\n",
       "    <tr>\n",
       "      <th>4</th>\n",
       "      <td>896</td>\n",
       "      <td>1</td>\n",
       "    </tr>\n",
       "  </tbody>\n",
       "</table>\n",
       "</div>"
      ],
      "text/plain": [
       "   PassengerId  Survived\n",
       "0          892         0\n",
       "1          893         1\n",
       "2          894         0\n",
       "3          895         0\n",
       "4          896         1"
      ]
     },
     "execution_count": 94,
     "metadata": {},
     "output_type": "execute_result"
    }
   ],
   "source": [
    "submission.head()\n",
    "submission['Survived'] = tree_pre\n",
    "submission.to_csv(\"./data/tree_pre.scv\", index=False)"
   ]
  },
  {
   "cell_type": "code",
   "execution_count": 95,
   "id": "7344425e",
   "metadata": {},
   "outputs": [],
   "source": [
    "submission['Survived'] = knn_pre"
   ]
  },
  {
   "cell_type": "code",
   "execution_count": 96,
   "id": "39ca76ba",
   "metadata": {},
   "outputs": [],
   "source": [
    "# 데이터프레이미을 csv파일로 저장\n",
    "#  index=False을 쓰지 않느다면 맨 앞의 번호도 인덱스로 인식해서 저장된다.\n",
    "submission.to_csv(\"./data/knn_pre.scv\", index=False)"
   ]
  },
  {
   "cell_type": "code",
   "execution_count": 97,
   "id": "c6df7ed7",
   "metadata": {},
   "outputs": [],
   "source": [
    "submission['Survived'] = tree_pre\n",
    "submission.to_csv(\"./data/tree_pre.scv\", index=False)"
   ]
  },
  {
   "cell_type": "markdown",
   "id": "65bc12fe",
   "metadata": {},
   "source": [
    "### 데이터 스케일링\n",
    "- 각 feature의 스케일이 다르면 예측결과가 안좋은 경우가 있다.\n",
    "- KNN, SVM 신경망모델, Clustering 모델 등"
   ]
  },
  {
   "cell_type": "code",
   "execution_count": 98,
   "id": "9acce605",
   "metadata": {},
   "outputs": [],
   "source": [
    "from sklearn.preprocessing import StandardScaler"
   ]
  },
  {
   "cell_type": "code",
   "execution_count": 99,
   "id": "6a57d64a",
   "metadata": {},
   "outputs": [],
   "source": [
    "# 스케일러 생성(평균과 표준편차)\n",
    "std_scaler = StandardScaler()"
   ]
  },
  {
   "cell_type": "code",
   "execution_count": 100,
   "id": "5e71a7df",
   "metadata": {},
   "outputs": [
    {
     "data": {
      "text/plain": [
       "StandardScaler()"
      ]
     },
     "execution_count": 100,
     "metadata": {},
     "output_type": "execute_result"
    }
   ],
   "source": [
    "# 기준값 생성(평균, 표준편차)\n",
    "std_scaler.fit(X_train[['Fare']])"
   ]
  },
  {
   "cell_type": "code",
   "execution_count": 101,
   "id": "72719e0c",
   "metadata": {},
   "outputs": [],
   "source": [
    "#데이터 변형 ([[]] 2차원 데이터 프레임으로 결과도출하기 위해서 씀)\n",
    "scaled_fare = std_scaler.transform(X_train[['Fare']])"
   ]
  },
  {
   "cell_type": "code",
   "execution_count": 102,
   "id": "63ce65f9",
   "metadata": {
    "collapsed": true
   },
   "outputs": [
    {
     "data": {
      "text/plain": [
       "array([[-5.02445171e-01],\n",
       "       [ 7.86845294e-01],\n",
       "       [-4.88854258e-01],\n",
       "       [ 4.20730236e-01],\n",
       "       [-4.86337422e-01],\n",
       "       [-4.78116429e-01],\n",
       "       [ 3.95813561e-01],\n",
       "       [-2.24083121e-01],\n",
       "       [-4.24256141e-01],\n",
       "       [-4.29555021e-02],\n",
       "       [-3.12172378e-01],\n",
       "       [-1.13845709e-01],\n",
       "       [-4.86337422e-01],\n",
       "       [-1.87093118e-02],\n",
       "       [-4.90279793e-01],\n",
       "       [-3.26266659e-01],\n",
       "       [-6.19988892e-02],\n",
       "       [-3.86670720e-01],\n",
       "       [-2.85997284e-01],\n",
       "       [-5.02948539e-01],\n",
       "       [-1.24919787e-01],\n",
       "       [-3.86670720e-01],\n",
       "       [-4.86756223e-01],\n",
       "       [ 6.63597416e-02],\n",
       "       [-2.24083121e-01],\n",
       "       [-1.64441595e-02],\n",
       "       [-5.02948539e-01],\n",
       "       [ 4.64700108e+00],\n",
       "       [-4.89776426e-01],\n",
       "       [-4.89442190e-01],\n",
       "       [-9.02720170e-02],\n",
       "       [ 2.30172882e+00],\n",
       "       [-4.92377828e-01],\n",
       "       [-4.37007438e-01],\n",
       "       [ 1.00606170e+00],\n",
       "       [ 3.98582080e-01],\n",
       "       [-5.02863973e-01],\n",
       "       [-4.86337422e-01],\n",
       "       [-2.85997284e-01],\n",
       "       [-4.22073541e-01],\n",
       "       [-4.57645492e-01],\n",
       "       [-2.25593223e-01],\n",
       "       [-4.89442190e-01],\n",
       "       [ 1.88762532e-01],\n",
       "       [-4.89776426e-01],\n",
       "       [-4.86337422e-01],\n",
       "       [-3.36334002e-01],\n",
       "       [-4.92377828e-01],\n",
       "       [-2.11917743e-01],\n",
       "       [-2.90024222e-01],\n",
       "       [ 1.50673744e-01],\n",
       "       [-4.91371093e-01],\n",
       "       [ 8.96496787e-01],\n",
       "       [-1.24919787e-01],\n",
       "       [ 5.99510151e-01],\n",
       "       [ 6.63597416e-02],\n",
       "       [-4.37007438e-01],\n",
       "       [-5.02863973e-01],\n",
       "       [-8.96840841e-02],\n",
       "       [ 2.95895176e-01],\n",
       "       [-5.02863973e-01],\n",
       "       [ 9.62353321e-01],\n",
       "       [ 1.03232136e+00],\n",
       "       [-8.66638810e-02],\n",
       "       [-9.02720170e-02],\n",
       "       [-3.41452240e-01],\n",
       "       [-4.37007438e-01],\n",
       "       [-4.84156835e-01],\n",
       "       [-4.88854258e-01],\n",
       "       [-4.74004926e-01],\n",
       "       [-4.37007438e-01],\n",
       "       [ 2.95895176e-01],\n",
       "       [ 8.31477855e-01],\n",
       "       [-3.57390858e-01],\n",
       "       [ 4.89103607e-01],\n",
       "       [-4.94391297e-01],\n",
       "       [-4.89442190e-01],\n",
       "       [-4.86337422e-01],\n",
       "       [-6.45157251e-02],\n",
       "       [-3.97241431e-01],\n",
       "       [-4.67209469e-01],\n",
       "       [-4.57142125e-01],\n",
       "       [-4.91622777e-01],\n",
       "       [ 2.99922113e-01],\n",
       "       [-4.37007438e-01],\n",
       "       [-3.29286862e-01],\n",
       "       [ 4.37082185e-02],\n",
       "       [-4.86337422e-01],\n",
       "       [ 4.64700108e+00],\n",
       "       [-4.86337422e-01],\n",
       "       [-4.86337422e-01],\n",
       "       [-4.90279793e-01],\n",
       "       [ 5.83317835e-01],\n",
       "       [-2.34150465e-01],\n",
       "       [-5.02445171e-01],\n",
       "       [-4.86337422e-01],\n",
       "       [ 4.93298232e-02],\n",
       "       [ 6.27277898e-01],\n",
       "       [-1.85323848e-01],\n",
       "       [-1.24919787e-01],\n",
       "       [-4.89442190e-01],\n",
       "       [-4.89442190e-01],\n",
       "       [ 9.07737982e-01],\n",
       "       [-4.74172044e-01],\n",
       "       [-4.88854258e-01],\n",
       "       [-4.89442190e-01],\n",
       "       [-4.94391297e-01],\n",
       "       [-4.91874461e-01],\n",
       "       [-4.89442190e-01],\n",
       "       [-1.62168958e-01],\n",
       "       [ 3.98582080e-01],\n",
       "       [-3.57390858e-01],\n",
       "       [-4.86337422e-01],\n",
       "       [-4.50598352e-01],\n",
       "       [-3.57308306e-01],\n",
       "       [-4.88854258e-01],\n",
       "       [-4.92377828e-01],\n",
       "       [-2.25593223e-01],\n",
       "       [ 4.33533223e+00],\n",
       "       [-1.87093118e-02],\n",
       "       [ 8.31477855e-01],\n",
       "       [-4.86337422e-01],\n",
       "       [-4.29555021e-02],\n",
       "       [-3.86670720e-01],\n",
       "       [ 9.07737982e-01],\n",
       "       [-4.22073541e-01],\n",
       "       [-4.92377828e-01],\n",
       "       [-5.04625758e-01],\n",
       "       [-1.98244277e-01],\n",
       "       [-5.07982210e-01],\n",
       "       [-4.89442190e-01],\n",
       "       [-5.06472109e-01],\n",
       "       [-3.56468689e-01],\n",
       "       [-1.24919787e-01],\n",
       "       [-3.86670720e-01],\n",
       "       [-3.45479177e-01],\n",
       "       [-1.19215630e-01],\n",
       "       [ 4.20730236e-01],\n",
       "       [-4.62846282e-01],\n",
       "       [ 9.46245572e-01],\n",
       "       [-3.41452240e-01],\n",
       "       [-4.92377828e-01],\n",
       "       [-3.29286862e-01],\n",
       "       [-5.12512515e-01],\n",
       "       [-4.16872751e-01],\n",
       "       [ 9.15281006e-02],\n",
       "       [-4.91455659e-01],\n",
       "       [ 4.37082185e-02],\n",
       "       [-1.24919787e-01],\n",
       "       [-3.86670720e-01],\n",
       "       [-3.96234697e-01],\n",
       "       [ 6.92548513e-01],\n",
       "       [-4.86337422e-01],\n",
       "       [-3.56468689e-01],\n",
       "       [-5.01186753e-01],\n",
       "       [ 5.87429338e-01],\n",
       "       [-4.92714077e-01],\n",
       "       [-4.86337422e-01],\n",
       "       [-4.74004926e-01],\n",
       "       [ 7.51945840e-01],\n",
       "       [-3.24253190e-01],\n",
       "       [-3.31300330e-01],\n",
       "       [-4.91874461e-01],\n",
       "       [-4.74004926e-01],\n",
       "       [ 1.50673744e-01],\n",
       "       [-2.35157199e-01],\n",
       "       [ 4.58986142e-01],\n",
       "       [-8.66638810e-02],\n",
       "       [-1.26429888e-01],\n",
       "       [ 4.89103607e-01],\n",
       "       [ 2.60903672e-02],\n",
       "       [-6.19988892e-02],\n",
       "       [-4.24256141e-01],\n",
       "       [-4.88854258e-01],\n",
       "       [-3.03713226e-02],\n",
       "       [-4.90279793e-01],\n",
       "       [-1.35657615e-01],\n",
       "       [-7.03044477e-02],\n",
       "       [-3.86670720e-01],\n",
       "       [-6.48421654e-01],\n",
       "       [ 7.51945840e-01],\n",
       "       [-3.45394611e-01],\n",
       "       [-1.64441595e-02],\n",
       "       [ 1.36831147e-01],\n",
       "       [-2.04955168e-01],\n",
       "       [ 3.58312706e-01],\n",
       "       [-3.36334002e-01],\n",
       "       [-1.13845709e-01],\n",
       "       [-3.36334002e-01],\n",
       "       [-4.89442190e-01],\n",
       "       [-3.86670720e-01],\n",
       "       [-3.86670720e-01],\n",
       "       [-4.90279793e-01],\n",
       "       [-1.24919787e-01],\n",
       "       [-9.02720170e-02],\n",
       "       [ 2.30172882e+00],\n",
       "       [-4.92377828e-01],\n",
       "       [-4.79205715e-01],\n",
       "       [-4.92377828e-01],\n",
       "       [-3.86670720e-01],\n",
       "       [-4.57142125e-01],\n",
       "       [ 7.51945840e-01],\n",
       "       [-5.17630753e-01],\n",
       "       [-5.02948539e-01],\n",
       "       [-4.86337422e-01],\n",
       "       [-4.37762489e-01],\n",
       "       [-3.29286862e-01],\n",
       "       [-2.70141218e-01],\n",
       "       [-4.92377828e-01],\n",
       "       [-2.42463508e-02],\n",
       "       [-5.06472109e-01],\n",
       "       [-2.25593223e-01],\n",
       "       [-5.02445171e-01],\n",
       "       [-3.86670720e-01],\n",
       "       [-4.92377828e-01],\n",
       "       [ 1.63233504e+00],\n",
       "       [-4.88854258e-01],\n",
       "       [-1.04785100e-01],\n",
       "       [ 8.87687861e-01],\n",
       "       [-4.37007438e-01],\n",
       "       [-4.86337422e-01],\n",
       "       [-3.86670720e-01],\n",
       "       [-4.86337422e-01],\n",
       "       [-4.89442190e-01],\n",
       "       [ 1.16370019e+00],\n",
       "       [-4.60162328e-01],\n",
       "       [-4.37007438e-01],\n",
       "       [-5.02445171e-01],\n",
       "       [-3.86670720e-01],\n",
       "       [-1.35657615e-01],\n",
       "       [ 1.03232136e+00],\n",
       "       [-4.91874461e-01],\n",
       "       [-3.76603377e-01],\n",
       "       [-1.64441595e-02],\n",
       "       [-4.37007438e-01],\n",
       "       [-4.96404765e-01],\n",
       "       [-1.24919787e-01],\n",
       "       [-1.19886115e-01],\n",
       "       [-4.37007438e-01],\n",
       "       [-4.01268368e-01],\n",
       "       [-3.57390858e-01],\n",
       "       [-3.36334002e-01],\n",
       "       [-4.37007438e-01],\n",
       "       [-5.04962007e-01],\n",
       "       [-5.02948539e-01],\n",
       "       [ 1.16370019e+00],\n",
       "       [-4.91874461e-01],\n",
       "       [-3.56468689e-01],\n",
       "       [ 4.09740724e-01],\n",
       "       [-1.24919787e-01],\n",
       "       [-5.02445171e-01],\n",
       "       [-4.37762489e-01],\n",
       "       [-1.13845709e-01],\n",
       "       [-3.24253190e-01],\n",
       "       [-2.41449289e-01],\n",
       "       [-3.41452240e-01],\n",
       "       [ 9.46245572e-01],\n",
       "       [ 1.09322879e+00],\n",
       "       [ 9.66716653e+00],\n",
       "       [-1.24919787e-01],\n",
       "       [-4.92377828e-01],\n",
       "       [-1.64441595e-02],\n",
       "       [ 9.55306181e-01],\n",
       "       [-6.48421654e-01],\n",
       "       [-4.92377828e-01],\n",
       "       [-4.37007438e-01],\n",
       "       [ 1.50673744e-01],\n",
       "       [-4.91874461e-01],\n",
       "       [ 2.44149778e+00],\n",
       "       [ 2.08251241e+00],\n",
       "       [-2.42463508e-02],\n",
       "       [-6.48421654e-01],\n",
       "       [-2.55795253e-01],\n",
       "       [-5.04214441e-02],\n",
       "       [-4.92377828e-01],\n",
       "       [ 9.21244331e-01],\n",
       "       [-4.92377828e-01],\n",
       "       [-6.48421654e-01],\n",
       "       [-6.19988892e-02],\n",
       "       [-2.40694238e-01],\n",
       "       [-4.92377828e-01],\n",
       "       [-4.90279793e-01],\n",
       "       [-4.57142125e-01],\n",
       "       [-4.86337422e-01],\n",
       "       [-1.24919787e-01],\n",
       "       [-4.74004926e-01],\n",
       "       [-4.57142125e-01],\n",
       "       [-4.89442190e-01],\n",
       "       [-3.86670720e-01],\n",
       "       [-4.92377828e-01],\n",
       "       [ 9.39198431e-01],\n",
       "       [ 1.18542955e+00],\n",
       "       [-3.89187556e-01],\n",
       "       [-4.70229672e-01],\n",
       "       [-4.89442190e-01],\n",
       "       [-9.02720170e-02],\n",
       "       [-5.02863973e-01],\n",
       "       [ 2.40299019e+00],\n",
       "       [-3.43136943e-02],\n",
       "       [ 4.33533223e+00],\n",
       "       [-4.92377828e-01],\n",
       "       [-1.80290176e-01],\n",
       "       [-6.48421654e-01],\n",
       "       [-3.99758267e-01],\n",
       "       [-4.86337422e-01],\n",
       "       [ 2.40299019e+00],\n",
       "       [ 1.58417891e+00],\n",
       "       [ 1.54424578e+00],\n",
       "       [-1.65189161e-01],\n",
       "       [ 4.97829980e-01],\n",
       "       [ 1.02594470e+00],\n",
       "       [ 4.63441690e+00],\n",
       "       [-1.24919787e-01],\n",
       "       [-4.89442190e-01],\n",
       "       [-1.19886115e-01],\n",
       "       [-4.90279793e-01],\n",
       "       [-1.24919787e-01],\n",
       "       [-3.66536033e-01],\n",
       "       [ 2.67111778e+00],\n",
       "       [ 2.05969377e+00],\n",
       "       [-5.02445171e-01],\n",
       "       [-4.89442190e-01],\n",
       "       [-3.99758267e-01],\n",
       "       [-6.45157251e-02],\n",
       "       [ 7.51945840e-01],\n",
       "       [ 2.08251241e+00],\n",
       "       [-5.22831542e-01],\n",
       "       [-3.86670720e-01],\n",
       "       [-2.35157199e-01],\n",
       "       [ 5.18971402e-01],\n",
       "       [-1.80290176e-01],\n",
       "       [-7.45830687e-02],\n",
       "       [ 2.44149778e+00],\n",
       "       [-2.85997284e-01],\n",
       "       [ 2.04257929e+00],\n",
       "       [-4.89442190e-01],\n",
       "       [ 6.92548513e-01],\n",
       "       [ 2.05969377e+00],\n",
       "       [-4.86337422e-01],\n",
       "       [ 6.63597416e-02],\n",
       "       [-1.24919787e-01],\n",
       "       [ 4.64700108e+00],\n",
       "       [-3.86670720e-01],\n",
       "       [-3.86670720e-01],\n",
       "       [-3.86670720e-01],\n",
       "       [-3.86670720e-01],\n",
       "       [-3.86670720e-01],\n",
       "       [-3.24253190e-01],\n",
       "       [-3.28280127e-01],\n",
       "       [-4.74004926e-01],\n",
       "       [-4.62679164e-01],\n",
       "       [ 5.62923980e-02],\n",
       "       [-5.02863973e-01],\n",
       "       [-2.90024222e-01],\n",
       "       [-5.02948539e-01],\n",
       "       [-4.57142125e-01],\n",
       "       [ 4.58986142e-01],\n",
       "       [-3.86670720e-01],\n",
       "       [-4.89776426e-01],\n",
       "       [-4.89776426e-01],\n",
       "       [-8.66638810e-02],\n",
       "       [-9.02720170e-02],\n",
       "       [-3.57390858e-01],\n",
       "       [-5.06472109e-01],\n",
       "       [-3.36334002e-01],\n",
       "       [-5.02445171e-01],\n",
       "       [ 8.66713557e-01],\n",
       "       [-5.02863973e-01],\n",
       "       [-4.92377828e-01],\n",
       "       [ 7.46912168e-01],\n",
       "       [ 4.67879633e-01],\n",
       "       [-5.17630753e-01],\n",
       "       [-4.86337422e-01],\n",
       "       [ 2.08251241e+00],\n",
       "       [-2.24083121e-01],\n",
       "       [ 1.00606170e+00],\n",
       "       [-5.02445171e-01],\n",
       "       [ 3.61006469e+00],\n",
       "       [-5.67631221e-01],\n",
       "       [-4.91874461e-01],\n",
       "       [ 3.93272305e+00],\n",
       "       [-3.31467448e-01],\n",
       "       [-4.88854258e-01],\n",
       "       [ 3.98582080e-01],\n",
       "       [-4.89442190e-01],\n",
       "       [ 8.31477855e-01],\n",
       "       [ 2.95895176e-01],\n",
       "       [-3.86670720e-01],\n",
       "       [-4.92796629e-01],\n",
       "       [-4.06805407e-01],\n",
       "       [ 1.76774081e+00],\n",
       "       [-4.91455659e-01],\n",
       "       [-4.88854258e-01],\n",
       "       [ 1.63233504e+00],\n",
       "       [-3.12172378e-01],\n",
       "       [-4.91455659e-01],\n",
       "       [-4.90279793e-01],\n",
       "       [-1.24919787e-01],\n",
       "       [-4.37007438e-01],\n",
       "       [-3.93717861e-01],\n",
       "       [-4.88854258e-01],\n",
       "       [-4.86337422e-01],\n",
       "       [-4.50598352e-01],\n",
       "       [-3.29286862e-01],\n",
       "       [-4.74004926e-01],\n",
       "       [-2.25593223e-01],\n",
       "       [-4.92377828e-01],\n",
       "       [-2.70896269e-01],\n",
       "       [-4.91874461e-01],\n",
       "       [-1.35657615e-01],\n",
       "       [-4.89442190e-01],\n",
       "       [-5.10331928e-01],\n",
       "       [ 1.16370019e+00],\n",
       "       [-6.48421654e-01],\n",
       "       [-4.88854258e-01],\n",
       "       [-4.86337422e-01],\n",
       "       [ 5.95568003e-03],\n",
       "       [-3.86670720e-01],\n",
       "       [-3.86670720e-01],\n",
       "       [-1.62168958e-01],\n",
       "       [-4.89442190e-01],\n",
       "       [-4.92714077e-01],\n",
       "       [-4.89860992e-01],\n",
       "       [-3.58482158e-01],\n",
       "       [-2.41449289e-01],\n",
       "       [-5.02445171e-01],\n",
       "       [-1.24919787e-01],\n",
       "       [-1.24919787e-01],\n",
       "       [-4.92377828e-01],\n",
       "       [-4.86337422e-01],\n",
       "       [-1.13845709e-01],\n",
       "       [-3.24253190e-01],\n",
       "       [-1.24919787e-01],\n",
       "       [-5.04962007e-01],\n",
       "       [ 4.77107360e-01],\n",
       "       [ 1.76774081e+00],\n",
       "       [ 4.37082185e-02],\n",
       "       [-2.70896269e-01],\n",
       "       [ 4.64700108e+00],\n",
       "       [-4.37007438e-01],\n",
       "       [-1.19886115e-01],\n",
       "       [-4.57142125e-01],\n",
       "       [-4.91874461e-01],\n",
       "       [-3.86670720e-01],\n",
       "       [-4.85079004e-01],\n",
       "       [ 9.99769611e-01],\n",
       "       [-2.55795253e-01],\n",
       "       [-1.13845709e-01],\n",
       "       [-2.60661807e-01],\n",
       "       [-3.43136943e-02],\n",
       "       [-8.96840841e-02],\n",
       "       [-2.46398395e-01],\n",
       "       [-8.96840841e-02],\n",
       "       [ 1.14566354e+00],\n",
       "       [-4.86337422e-01],\n",
       "       [-4.89442190e-01],\n",
       "       [-1.13845709e-01],\n",
       "       [ 3.95813561e-01],\n",
       "       [-4.37007438e-01],\n",
       "       [-4.92377828e-01],\n",
       "       [-1.13845709e-01],\n",
       "       [-4.86337422e-01],\n",
       "       [ 1.26763803e-01],\n",
       "       [-3.86670720e-01],\n",
       "       [-4.86337422e-01],\n",
       "       [-5.06472109e-01],\n",
       "       [-6.48421654e-01],\n",
       "       [-1.13845709e-01],\n",
       "       [-4.92881195e-01],\n",
       "       [-2.60661807e-01],\n",
       "       [-5.02445171e-01],\n",
       "       [-4.74004926e-01],\n",
       "       [-8.96840841e-02],\n",
       "       [-3.70730088e-01],\n",
       "       [-4.50346668e-01],\n",
       "       [ 3.98582080e-01],\n",
       "       [-2.25593223e-01],\n",
       "       [-5.06556675e-01],\n",
       "       [-4.96992698e-01],\n",
       "       [-4.01016685e-01],\n",
       "       [ 2.95895176e-01],\n",
       "       [-6.48421654e-01],\n",
       "       [-4.86337422e-01],\n",
       "       [-4.55380340e-01],\n",
       "       [ 1.18542955e+00],\n",
       "       [-1.35657615e-01],\n",
       "       [ 1.16370019e+00],\n",
       "       [-5.04214441e-02],\n",
       "       [-4.86337422e-01],\n",
       "       [-3.28280127e-01],\n",
       "       [-2.46398395e-01],\n",
       "       [-5.02445171e-01],\n",
       "       [-3.43136943e-02],\n",
       "       [ 3.48329928e-01],\n",
       "       [-4.86337422e-01],\n",
       "       [-3.57308306e-01],\n",
       "       [ 9.27453868e-01],\n",
       "       [-3.44387877e-01],\n",
       "       [ 2.40299019e+00],\n",
       "       [-4.91455659e-01],\n",
       "       [-4.74004926e-01],\n",
       "       [-4.92377828e-01],\n",
       "       [-4.94810098e-01],\n",
       "       [-4.55380340e-01],\n",
       "       [ 1.09322879e+00],\n",
       "       [ 1.54424578e+00],\n",
       "       [-1.24919787e-01],\n",
       "       [-1.13845709e-01],\n",
       "       [-1.94887825e-01],\n",
       "       [ 4.89103607e-01],\n",
       "       [-4.92377828e-01],\n",
       "       [-4.86337422e-01],\n",
       "       [-1.19131064e-01],\n",
       "       [ 5.47578765e-01],\n",
       "       [-4.97496065e-01],\n",
       "       [ 3.65765123e-02],\n",
       "       [-4.37007438e-01],\n",
       "       [-1.62168958e-01],\n",
       "       [-1.24919787e-01],\n",
       "       [-4.89442190e-01],\n",
       "       [ 1.23417160e+00],\n",
       "       [-4.89442190e-01],\n",
       "       [-5.02948539e-01],\n",
       "       [ 5.18971402e-01],\n",
       "       [-5.02863973e-01],\n",
       "       [-4.92377828e-01],\n",
       "       [-4.37007438e-01],\n",
       "       [ 3.81703316e+00],\n",
       "       [-4.88854258e-01],\n",
       "       [-4.16872751e-01],\n",
       "       [-1.24919787e-01],\n",
       "       [-5.02863973e-01],\n",
       "       [-5.02863973e-01],\n",
       "       [-1.98244277e-01],\n",
       "       [-4.74004926e-01],\n",
       "       [-1.19886115e-01],\n",
       "       [-1.13845709e-01],\n",
       "       [ 1.49441243e+00],\n",
       "       [-3.56468689e-01],\n",
       "       [ 3.48245362e-01],\n",
       "       [ 7.81141137e-01],\n",
       "       [-1.87093118e-02],\n",
       "       [-1.87093118e-02],\n",
       "       [-1.24919787e-01],\n",
       "       [ 1.49441243e+00],\n",
       "       [-1.24919787e-01],\n",
       "       [-1.24919787e-01],\n",
       "       [-3.69304552e-01],\n",
       "       [-2.35157199e-01],\n",
       "       [ 9.15281006e-02],\n",
       "       [ 1.58417891e+00],\n",
       "       [-1.24919787e-01],\n",
       "       [-4.90783161e-01],\n",
       "       [-5.02948539e-01],\n",
       "       [-4.91874461e-01],\n",
       "       [-1.13845709e-01],\n",
       "       [ 1.48911959e-01],\n",
       "       [ 3.93272305e+00],\n",
       "       [ 9.55306181e-01],\n",
       "       [-2.98078096e-01],\n",
       "       [-4.92377828e-01],\n",
       "       [-4.89442190e-01],\n",
       "       [-3.76603377e-01],\n",
       "       [-4.86337422e-01],\n",
       "       [-4.86337422e-01],\n",
       "       [-1.62168958e-01],\n",
       "       [-4.89442190e-01],\n",
       "       [-2.24083121e-01],\n",
       "       [-5.02863973e-01],\n",
       "       [-4.90279793e-01],\n",
       "       [-4.37007438e-01],\n",
       "       [ 3.88095935e-01],\n",
       "       [-1.17117595e-01],\n",
       "       [-4.92377828e-01],\n",
       "       [-4.86337422e-01],\n",
       "       [-3.56468689e-01],\n",
       "       [-3.86670720e-01],\n",
       "       [ 4.77107360e-01],\n",
       "       [-3.57308306e-01],\n",
       "       [-4.88854258e-01],\n",
       "       [-4.43810379e-02],\n",
       "       [ 1.58417891e+00],\n",
       "       [-1.24919787e-01],\n",
       "       [ 1.59482670e-01],\n",
       "       [-4.72998191e-01],\n",
       "       [ 9.55306181e-01],\n",
       "       [-3.46401346e-01],\n",
       "       [ 9.46245572e-01],\n",
       "       [-4.86337422e-01],\n",
       "       [-4.86337422e-01],\n",
       "       [-5.04962007e-01],\n",
       "       [ 9.27453868e-01],\n",
       "       [-5.02445171e-01],\n",
       "       [-4.92377828e-01],\n",
       "       [-1.24919787e-01],\n",
       "       [-1.62168958e-01],\n",
       "       [ 1.60230236e-02],\n",
       "       [-6.48421654e-01],\n",
       "       [-5.02948539e-01],\n",
       "       [ 4.97829980e-01],\n",
       "       [-1.04785100e-01],\n",
       "       [-4.89442190e-01],\n",
       "       [ 2.05289083e-01],\n",
       "       [-4.86337422e-01],\n",
       "       [-1.13845709e-01],\n",
       "       [-3.35327268e-01],\n",
       "       [-4.89442190e-01],\n",
       "       [-3.43136943e-02],\n",
       "       [ 1.88762532e-01],\n",
       "       [ 2.44149778e+00],\n",
       "       [-1.87093118e-02],\n",
       "       [-5.06472109e-01],\n",
       "       [-3.36334002e-01],\n",
       "       [-4.92377828e-01],\n",
       "       [-4.86337422e-01],\n",
       "       [ 6.60333014e-01],\n",
       "       [-3.58482158e-01],\n",
       "       [-3.24253190e-01],\n",
       "       [ 1.36831147e-01],\n",
       "       [-4.37007438e-01],\n",
       "       [-3.57390858e-01],\n",
       "       [ 4.09740724e-01],\n",
       "       [-3.31467448e-01],\n",
       "       [-4.90279793e-01],\n",
       "       [-3.24253190e-01],\n",
       "       [ 2.34754408e-03],\n",
       "       [-3.99758267e-01],\n",
       "       [ 9.21244331e-01],\n",
       "       [-4.89442190e-01],\n",
       "       [-4.92714077e-01],\n",
       "       [-4.43810379e-02],\n",
       "       [-5.06387543e-01],\n",
       "       [-3.43136943e-02],\n",
       "       [-6.48421654e-01],\n",
       "       [-8.66638810e-02],\n",
       "       [-3.86670720e-01],\n",
       "       [-4.88854258e-01],\n",
       "       [-1.19886115e-01],\n",
       "       [ 1.50673744e-01],\n",
       "       [-3.24253190e-01],\n",
       "       [-4.90279793e-01],\n",
       "       [ 7.46912168e-01],\n",
       "       [-8.66638810e-02],\n",
       "       [ 4.89103607e-01],\n",
       "       [-2.60661807e-01],\n",
       "       [ 8.96496787e-01],\n",
       "       [-4.89442190e-01],\n",
       "       [ 6.63597416e-02],\n",
       "       [-4.96404765e-01],\n",
       "       [-4.96404765e-01],\n",
       "       [-4.89442190e-01],\n",
       "       [-1.85323848e-01],\n",
       "       [-4.78619796e-01],\n",
       "       [-4.90783161e-01],\n",
       "       [-5.12512515e-01],\n",
       "       [ 8.31477855e-01],\n",
       "       [-4.89442190e-01],\n",
       "       [-3.36334002e-01],\n",
       "       [-3.86670720e-01],\n",
       "       [ 1.63233504e+00],\n",
       "       [ 2.04257929e+00],\n",
       "       [-5.02948539e-01],\n",
       "       [-1.33225345e-01],\n",
       "       [-4.97496065e-01],\n",
       "       [-4.88854258e-01],\n",
       "       [ 8.31477855e-01],\n",
       "       [-3.86670720e-01],\n",
       "       [-4.91874461e-01],\n",
       "       [-4.86337422e-01],\n",
       "       [ 3.98582080e-01],\n",
       "       [ 1.36831147e-01],\n",
       "       [ 3.98582080e-01],\n",
       "       [-4.37007438e-01],\n",
       "       [-3.86670720e-01],\n",
       "       [-6.48421654e-01],\n",
       "       [-4.91874461e-01],\n",
       "       [-4.86337422e-01],\n",
       "       [-4.50262103e-01],\n",
       "       [ 2.95895176e-01],\n",
       "       [ 9.66716653e+00],\n",
       "       [-4.84575637e-01],\n",
       "       [ 8.96496787e-01],\n",
       "       [-4.62679164e-01],\n",
       "       [ 2.95895176e-01],\n",
       "       [ 1.36831147e-01],\n",
       "       [ 1.88762532e-01],\n",
       "       [ 1.50673744e-01],\n",
       "       [-4.43635777e-01],\n",
       "       [-4.91455659e-01],\n",
       "       [ 3.60679280e+00],\n",
       "       [ 4.99255516e-01],\n",
       "       [-3.78280596e-01],\n",
       "       [ 4.89103607e-01],\n",
       "       [-5.02948539e-01],\n",
       "       [-1.13845709e-01],\n",
       "       [-3.76603377e-01],\n",
       "       [-4.86337422e-01],\n",
       "       [-4.92714077e-01],\n",
       "       [ 1.58417891e+00],\n",
       "       [-4.94391297e-01],\n",
       "       [ 3.93272305e+00],\n",
       "       [-1.19131064e-01],\n",
       "       [-3.57390858e-01],\n",
       "       [-4.92544946e-01],\n",
       "       [-4.90279793e-01],\n",
       "       [-1.24919787e-01],\n",
       "       [-3.76603377e-01],\n",
       "       [-1.19131064e-01],\n",
       "       [ 2.40299019e+00],\n",
       "       [-3.41452240e-01],\n",
       "       [ 3.48329928e-01],\n",
       "       [-1.13845709e-01],\n",
       "       [ 3.98582080e-01],\n",
       "       [-4.57478375e-01],\n",
       "       [-3.86670720e-01],\n",
       "       [-4.94391297e-01],\n",
       "       [ 3.93272305e+00],\n",
       "       [-4.37007438e-01],\n",
       "       [-3.36334002e-01],\n",
       "       [-4.91874461e-01],\n",
       "       [ 1.60230236e-02],\n",
       "       [-5.06387543e-01],\n",
       "       [-3.86670720e-01],\n",
       "       [-3.86670720e-01],\n",
       "       [ 4.20730236e-01],\n",
       "       [-4.74004926e-01],\n",
       "       [-2.25593223e-01],\n",
       "       [-4.92629511e-01],\n",
       "       [-1.24919787e-01],\n",
       "       [-4.88854258e-01],\n",
       "       [ 3.60679280e+00],\n",
       "       [-2.70141218e-01],\n",
       "       [-6.48421654e-01],\n",
       "       [-3.86670720e-01],\n",
       "       [-3.86670720e-01],\n",
       "       [-3.24253190e-01],\n",
       "       [ 4.37082185e-02],\n",
       "       [ 9.66716653e+00],\n",
       "       [-4.89442190e-01],\n",
       "       [-4.89442190e-01],\n",
       "       [-4.43810379e-02],\n",
       "       [ 9.39198431e-01],\n",
       "       [ 4.63441690e+00],\n",
       "       [-3.24253190e-01],\n",
       "       [-4.88854258e-01],\n",
       "       [ 7.81141137e-01],\n",
       "       [-2.40694238e-01],\n",
       "       [-3.86670720e-01],\n",
       "       [ 4.20730236e-01],\n",
       "       [-4.92377828e-01],\n",
       "       [-1.85323848e-01],\n",
       "       [-3.97241431e-01],\n",
       "       [-4.57142125e-01],\n",
       "       [-4.89442190e-01],\n",
       "       [ 6.60333014e-01],\n",
       "       [-3.56468689e-01],\n",
       "       [-4.91455659e-01],\n",
       "       [-4.16872751e-01],\n",
       "       [-4.86337422e-01],\n",
       "       [ 1.09322879e+00],\n",
       "       [-3.56468689e-01],\n",
       "       [-5.04962007e-01],\n",
       "       [-5.02863973e-01],\n",
       "       [ 1.76774081e+00],\n",
       "       [-4.91874461e-01],\n",
       "       [ 9.21244331e-01],\n",
       "       [ 1.48911959e-01],\n",
       "       [-4.92377828e-01],\n",
       "       [-1.62168958e-01],\n",
       "       [-4.80045332e-01],\n",
       "       [-4.57142125e-01],\n",
       "       [-4.90279793e-01],\n",
       "       [-4.37007438e-01],\n",
       "       [-5.02948539e-01],\n",
       "       [-1.85323848e-01],\n",
       "       [-4.92377828e-01],\n",
       "       [-4.92377828e-01],\n",
       "       [-3.97241431e-01],\n",
       "       [-4.92629511e-01],\n",
       "       [ 3.60679280e+00],\n",
       "       [-5.02863973e-01],\n",
       "       [ 4.99255516e-01],\n",
       "       [-4.43810379e-02],\n",
       "       [-1.76263239e-01],\n",
       "       [-5.06472109e-01],\n",
       "       [-5.02445171e-01],\n",
       "       [-4.97496065e-01],\n",
       "       [-6.19988892e-02],\n",
       "       [-2.34150465e-01],\n",
       "       [ 9.46245572e-01],\n",
       "       [-4.92377828e-01],\n",
       "       [-1.24919787e-01],\n",
       "       [ 7.51945840e-01],\n",
       "       [-3.03713226e-02],\n",
       "       [-4.89442190e-01],\n",
       "       [-3.86670720e-01],\n",
       "       [-1.26345323e-01],\n",
       "       [-4.73586124e-01],\n",
       "       [-5.02863973e-01],\n",
       "       [-1.62168958e-01],\n",
       "       [-3.86670720e-01],\n",
       "       [-1.19886115e-01],\n",
       "       [ 1.76774081e+00],\n",
       "       [-4.76940563e-01],\n",
       "       [-5.07982210e-01],\n",
       "       [-4.91874461e-01],\n",
       "       [-6.48421654e-01],\n",
       "       [-4.91874461e-01],\n",
       "       [-3.86670720e-01],\n",
       "       [ 4.20730236e-01],\n",
       "       [-4.89609308e-01],\n",
       "       [-1.62168958e-01],\n",
       "       [-4.37007438e-01],\n",
       "       [-1.87093118e-02],\n",
       "       [-4.86337422e-01],\n",
       "       [-6.48421654e-01],\n",
       "       [-4.88854258e-01],\n",
       "       [ 9.66463381e-02],\n",
       "       [-5.18552921e-01],\n",
       "       [-8.66638810e-02],\n",
       "       [ 1.23417160e+00],\n",
       "       [-4.74004926e-01],\n",
       "       [-6.48421654e-01],\n",
       "       [-3.97241431e-01],\n",
       "       [ 1.50673744e-01],\n",
       "       [-5.08485578e-01],\n",
       "       [ 4.89103607e-01],\n",
       "       [ 9.66463381e-02],\n",
       "       [-4.92377828e-01],\n",
       "       [ 9.62353321e-01],\n",
       "       [-3.57390858e-01],\n",
       "       [-2.70896269e-01],\n",
       "       [-5.02863973e-01],\n",
       "       [-4.90279793e-01],\n",
       "       [-4.81303750e-01],\n",
       "       [ 1.02594470e+00],\n",
       "       [-4.74004926e-01],\n",
       "       [-4.86337422e-01],\n",
       "       [ 4.89103607e-01],\n",
       "       [-5.04214441e-02],\n",
       "       [-4.88854258e-01],\n",
       "       [-4.37007438e-01],\n",
       "       [-2.42463508e-02],\n",
       "       [-5.18804605e-01],\n",
       "       [-4.74004926e-01],\n",
       "       [-4.96404765e-01],\n",
       "       [ 7.51945840e-01],\n",
       "       [-4.89442190e-01],\n",
       "       [ 1.60230236e-02],\n",
       "       [ 1.14566354e+00],\n",
       "       [-1.87093118e-02],\n",
       "       [-4.91874461e-01],\n",
       "       [-3.41452240e-01],\n",
       "       [ 1.44885022e-01],\n",
       "       [-1.24919787e-01],\n",
       "       [-4.60162328e-01],\n",
       "       [ 2.67111778e+00],\n",
       "       [-1.13845709e-01],\n",
       "       [-2.60661807e-01],\n",
       "       [-5.02863973e-01],\n",
       "       [-3.64355446e-01],\n",
       "       [-4.16872751e-01],\n",
       "       [-1.26345323e-01],\n",
       "       [ 7.51945840e-01],\n",
       "       [-3.86670720e-01],\n",
       "       [-3.86670720e-01],\n",
       "       [-3.69389118e-01],\n",
       "       [ 3.68295484e-01],\n",
       "       [-4.57142125e-01],\n",
       "       [-4.24256141e-01],\n",
       "       [-4.89442190e-01],\n",
       "       [ 4.09740724e-01],\n",
       "       [-5.47748218e-01],\n",
       "       [-4.67209469e-01],\n",
       "       [-1.65189161e-01],\n",
       "       [-5.02948539e-01],\n",
       "       [-4.50179550e-01],\n",
       "       [-4.89442190e-01],\n",
       "       [-4.89442190e-01],\n",
       "       [ 1.02594470e+00],\n",
       "       [-1.24919787e-01],\n",
       "       [-4.89442190e-01],\n",
       "       [-4.36671189e-01],\n",
       "       [-4.37007438e-01],\n",
       "       [-5.06472109e-01],\n",
       "       [-6.19988892e-02],\n",
       "       [-3.86670720e-01],\n",
       "       [-4.43810379e-02],\n",
       "       [-1.76263239e-01],\n",
       "       [-4.43810379e-02],\n",
       "       [-4.92377828e-01]])"
      ]
     },
     "execution_count": 102,
     "metadata": {},
     "output_type": "execute_result"
    }
   ],
   "source": [
    "scaled_fare"
   ]
  },
  {
   "cell_type": "code",
   "execution_count": 103,
   "id": "6ecead6d",
   "metadata": {},
   "outputs": [
    {
     "data": {
      "text/plain": [
       "<AxesSubplot:xlabel='Fare', ylabel='Density'>"
      ]
     },
     "execution_count": 103,
     "metadata": {},
     "output_type": "execute_result"
    },
    {
     "data": {
      "image/png": "[encoded data removed]",
      "text/plain": [
       "<Figure size 432x288 with 1 Axes>"
      ]
     },
     "metadata": {
      "needs_background": "light"
     },
     "output_type": "display_data"
    }
   ],
   "source": [
    "X_train['Fare'] = scaled_fare\n",
    "sns.kdeplot(data=X_train, x='Fare')"
   ]
  },
  {
   "cell_type": "code",
   "execution_count": 104,
   "id": "5a5a1447",
   "metadata": {},
   "outputs": [],
   "source": [
    "scaled_fare = std_scaler.transform(X_test[['Fare']])\n",
    "X_test['Fare'] = scaled_fare"
   ]
  },
  {
   "cell_type": "code",
   "execution_count": 105,
   "id": "c33acb41",
   "metadata": {},
   "outputs": [],
   "source": [
    "knn_model2 = KNeighborsClassifier()\n",
    "knn_model2.fit(X_train,y_train)\n",
    "knn_pre2 = knn_model2.predict(X_test)\n",
    "submission['Survived'] = knn_pre2\n",
    "submission.to_csv(\"./data/knn_pre2\", index=False)"
   ]
  },
  {
   "cell_type": "markdown",
   "id": "863e0ed2",
   "metadata": {},
   "source": [
    "## 하이퍼 파라미터 튜닝\n",
    "- KNN모델과 DecisionTree모델을 최적화해보자.\n",
    "- KNN : 이웃숫자\n",
    "- Tree : 나무의 깊이, 리프노드의 갯수, 한 리프노드에 들어갈 샘풀 수 등"
   ]
  },
  {
   "cell_type": "markdown",
   "id": "849a00ad",
   "metadata": {},
   "source": [
    "### 모델 최적화를 위해 검증 데이터셋을 만들자"
   ]
  },
  {
   "cell_type": "code",
   "execution_count": 106,
   "id": "27b6fb36",
   "metadata": {},
   "outputs": [],
   "source": [
    "from sklearn.model_selection import train_test_split"
   ]
  },
  {
   "cell_type": "code",
   "execution_count": 107,
   "id": "6de8012d",
   "metadata": {},
   "outputs": [],
   "source": [
    "X_train2,X_val,y_train2,y_val = train_test_split(X_train, y_train,\n",
    "                                                test_size=0.3,\n",
    "                                                random_state=719)"
   ]
  },
  {
   "cell_type": "code",
   "execution_count": 108,
   "id": "30086c6d",
   "metadata": {},
   "outputs": [
    {
     "data": {
      "text/plain": [
       "((623, 26), (623,))"
      ]
     },
     "execution_count": 108,
     "metadata": {},
     "output_type": "execute_result"
    }
   ],
   "source": [
    "X_train2.shape, y_train2.shape"
   ]
  },
  {
   "cell_type": "code",
   "execution_count": 109,
   "id": "afba2036",
   "metadata": {},
   "outputs": [
    {
     "data": {
      "text/plain": [
       "((268, 26), (268,))"
      ]
     },
     "execution_count": 109,
     "metadata": {},
     "output_type": "execute_result"
    }
   ],
   "source": [
    "X_val.shape, y_val.shape"
   ]
  },
  {
   "cell_type": "code",
   "execution_count": null,
   "id": "4c2fd917",
   "metadata": {},
   "outputs": [],
   "source": [
    "X_train2,X_val,y_train2,y_val"
   ]
  },
  {
   "cell_type": "code",
   "execution_count": 111,
   "id": "e7a58849",
   "metadata": {},
   "outputs": [
    {
     "data": {
      "image/png": "[encoded data removed]",
      "text/plain": [
       "<Figure size 432x288 with 1 Axes>"
      ]
     },
     "metadata": {
      "needs_background": "light"
     },
     "output_type": "display_data"
    }
   ],
   "source": [
    "train_acc = []\n",
    "test_acc = []\n",
    "\n",
    "neighbor =range(1, 20)\n",
    "\n",
    "for n in neighbor :\n",
    "    knn_model = KNeighborsClassifier(n_neighbors=n)\n",
    "    knn_model.fit(X_train2, y_train2)\n",
    "    \n",
    "    train_acc.append(knn_model.score(X_train2, y_train2))\n",
    "    test_acc.append(knn_model.score(X_val, y_val))\n",
    "import matplotlib.pyplot as plt\n",
    "\n",
    "plt.plot(neighbor, train_acc, label=\"Train2\")\n",
    "plt.plot(neighbor, test_acc, label=\"val\")\n",
    "plt.legend()\n",
    "plt.show()"
   ]
  },
  {
   "cell_type": "code",
   "execution_count": 115,
   "id": "31b03901",
   "metadata": {},
   "outputs": [],
   "source": [
    "knn_model3 = KNeighborsClassifier(n_neighbors=7)\n",
    "knn_model3.fit(X_train, y_train)\n",
    "knn_pre3 = knn_model3.predict(X_test)\n",
    "submission['Survived'] = knn_pre3\n",
    "submission.to_csv(\"./data/knn_pre3.csv\", index=False)"
   ]
  },
  {
   "cell_type": "code",
   "execution_count": null,
   "id": "efd7f108",
   "metadata": {},
   "outputs": [],
   "source": []
  },
  {
   "cell_type": "code",
   "execution_count": null,
   "id": "6427d534",
   "metadata": {},
   "outputs": [],
   "source": [
    "tree_model = DecisionTreeClassifier()\n",
    "tree_model.fit(X_train, y_train)\n",
    "tree_pre2 = tree_model.predict(X_test)\n",
    "submission['Survived'] = tree_pre2\n",
    "submission.to_csv(\"./data/tree_pre.scv\", index=False)"
   ]
  },
  {
   "cell_type": "code",
   "execution_count": null,
   "id": "ed37c4ed",
   "metadata": {},
   "outputs": [],
   "source": []
  }
 ],
 "metadata": {
  "kernelspec": {
   "display_name": "Python 3 (ipykernel)",
   "language": "python",
   "name": "python3"
  },
  "language_info": {
   "codemirror_mode": {
    "name": "ipython",
    "version": 3
   },
   "file_extension": ".py",
   "mimetype": "text/x-python",
   "name": "python",
   "nbconvert_exporter": "python",
   "pygments_lexer": "ipython3",
   "version": "3.9.12"
  },
  "toc": {
   "base_numbering": 1,
   "nav_menu": {},
   "number_sections": true,
   "sideBar": true,
   "skip_h1_title": false,
   "title_cell": "Table of Contents",
   "title_sidebar": "Contents",
   "toc_cell": false,
   "toc_position": {
    "height": "calc(100% - 180px)",
    "left": "10px",
    "top": "150px",
    "width": "204.8px"
   },
   "toc_section_display": true,
   "toc_window_display": false
  }
 },
 "nbformat": 4,
 "nbformat_minor": 5
}
